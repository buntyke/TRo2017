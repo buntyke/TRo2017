{
 "cells": [
  {
   "cell_type": "markdown",
   "metadata": {},
   "source": [
    "# Experiment 2: TRo Journal\n",
    "---\n",
    "\n",
    "Compare the predictive performance of using MRD with respect to other standard regression frameworks such as nearest neighbor regression, linear regression, neural networks and gaussian process regression.\n",
    "\n",
    "In this Ipython notebook, the predictive performance of all the regression techniques is evaluated. The metrics for evaluation are RMS error, normalized RMS error and pearson correlation."
   ]
  },
  {
   "cell_type": "code",
   "execution_count": null,
   "metadata": {
    "collapsed": false
   },
   "outputs": [],
   "source": [
    "# import the modules\n",
    "import GPy\n",
    "import csv\n",
    "import random\n",
    "import numpy as np\n",
    "import cPickle as pickle\n",
    "import scipy.stats as stats\n",
    "import sklearn.metrics as metrics\n",
    "from sklearn import preprocessing\n",
    "from matplotlib import pyplot as plt\n",
    "from sklearn.neural_network import MLPRegressor\n",
    "from sklearn.neighbors import KNeighborsRegressor\n",
    "from sklearn.linear_model import LinearRegression\n",
    "\n",
    "%matplotlib notebook"
   ]
  },
  {
   "cell_type": "markdown",
   "metadata": {},
   "source": [
    "# Data Loading\n",
    "---"
   ]
  },
  {
   "cell_type": "code",
   "execution_count": null,
   "metadata": {
    "collapsed": false
   },
   "outputs": [],
   "source": [
    "# load all the files and create Data\n",
    "trackPath = '../Data/Tracks/'\n",
    "mocapPath = '../Data/MocapData/'\n",
    "kinectPath = '../Data/KinectData/'\n",
    "\n",
    "nTypes = 2\n",
    "dataKeys = ['Cloud','TopCoord']\n",
    "paths = [kinectPath, mocapPath]\n",
    "dataFormats = ['Cloud','TopCoord']\n",
    "\n",
    "nPos = 6\n",
    "nShr = 4\n",
    "names = []\n",
    "for nS in range(nShr):\n",
    "    for nP in range(nPos):\n",
    "        names.append('K1S%dP%dT1' % (nS+1,nP+1))\n",
    "\n",
    "# loop over all names\n",
    "Data = {}\n",
    "for fileName in names:\n",
    "    data = {}\n",
    "    for ind in range(nTypes):\n",
    "        dataName = paths[ind] + fileName + dataFormats[ind] \n",
    "        reader = csv.reader(open(dataName,\"rb\"), delimiter=',')\n",
    "\n",
    "        d = np.array(list(reader))\n",
    "        data[dataKeys[ind]] = d.astype('float')        \n",
    "    Data[fileName] = data\n",
    "\n",
    "# dump complete dataset to pickle file (large one)\n",
    "pickle.dump(Data,open('../Data/Data.p','wb'))"
   ]
  },
  {
   "cell_type": "markdown",
   "metadata": {},
   "source": [
    "# Main Loop\n",
    "---"
   ]
  },
  {
   "cell_type": "code",
   "execution_count": null,
   "metadata": {
    "collapsed": true
   },
   "outputs": [],
   "source": [
    "kinectExt = 'C'\n",
    "kinectDim = 7500\n",
    "kinectKey = 'Cloud'\n",
    "\n",
    "mocapDim = 8\n",
    "mocapExt = 'T'\n",
    "mocapKey = 'TopCoord'\n",
    "\n",
    "samplingFreq = 2\n",
    "\n",
    "dataTypes = ['train','test']\n",
    "models = ['mlp','lr','gp','nn']\n",
    "\n",
    "# load dataset\n",
    "Data = pickle.load(open('../Data/Data.p','rb'))"
   ]
  },
  {
   "cell_type": "code",
   "execution_count": null,
   "metadata": {
    "collapsed": false
   },
   "outputs": [],
   "source": [
    "nShr = 4\n",
    "nPos = 6\n",
    "dims = [kinectDim,mocapDim]\n",
    "keys = [kinectKey,mocapKey]\n",
    "expName = '%s%s' % (kinectExt,mocapExt)\n",
    "print 'Modalities: %s,%s' % (kinectKey, mocapKey)\n",
    " \n",
    "names = []\n",
    "for nS in range(nShr):\n",
    "    for nP in range(nPos):\n",
    "        names.append('K1S%dP%dT1' % (nS+1,nP+1))    \n",
    "\n",
    "# cross validation loop\n",
    "for nS in range(nShr):\n",
    "    for nP in range(nPos):\n",
    "        testInd = nS*nPos+nP\n",
    "        valInd = nS*nPos+(nP+1)%nPos\n",
    "        \n",
    "        trainInd = [nS*nPos+ind for ind in range(nPos)]\n",
    "        del trainInd[nP]\n",
    "        print 'Cycle:%d,%d' % (nS+1,nP+1)\n",
    "        print names[valInd], names[testInd], [names[ind] for ind in trainInd]\n",
    "    \n",
    "        valData = {}\n",
    "        testData = {}\n",
    "        trainData = {}\n",
    "        for key,dim in zip(keys,dims):\n",
    "            trD = np.empty((0,dim))\n",
    "            for ind in trainInd:\n",
    "                trD = np.concatenate((trD,Data[names[ind]][key][::samplingFreq,:]),axis=0)\n",
    "        \n",
    "            valData[key] = Data[names[valInd]][key]\n",
    "            testData[key] = Data[names[testInd]][key]\n",
    "            trainData[key] = trD\n",
    "            \n",
    "        results = {}\n",
    "        for dT in dataTypes:\n",
    "            results[dT] = {}\n",
    "            for m in models:\n",
    "                results[dT][m] = {}\n",
    "        \n",
    "        print 'Initialization done!'\n",
    "           \n",
    "        # train the models\n",
    "        regressors = {}\n",
    "        \n",
    "        regressors['nn'] = KNeighborsRegressor(n_neighbors=5,weights='uniform',algorithm='kd_tree')\n",
    "        regressors['nn'].fit(trainData[kinectKey],trainData[mocapKey])\n",
    "        print 'NN done!'\n",
    "            \n",
    "        regressors['lr'] = LinearRegression(fit_intercept=True)\n",
    "        regressors['lr'].fit(trainData[kinectKey],trainData[mocapKey])\n",
    "        print 'LR done!'\n",
    "\n",
    "        regressors['mlp'] = MLPRegressor(hidden_layer_sizes=(100,),solver='sgd',\n",
    "                                         learning_rate='constant',activation='relu',\n",
    "                                         max_iter=1000,verbose=False,validation_fraction=0.1)\n",
    "        regressors['mlp'].fit(trainData[kinectKey],trainData[mocapKey])\n",
    "        print 'MLP done!'\n",
    "\n",
    "        regressors['gp'] = GPy.models.GPRegression(trainData[kinectKey],trainData[mocapKey])\n",
    "        regressors['gp'].optimize('bfgs',max_iters=2000)\n",
    "        print 'GP done!'\n",
    "\n",
    "        # predict for the test and validation data\n",
    "        trueData = {'train':valData[mocapKey], 'test':testData[mocapKey]}\n",
    "        inputData = {'train':valData[kinectKey], 'test':testData[kinectKey]}\n",
    "        \n",
    "        for dT in dataTypes:\n",
    "            for m in models:\n",
    "                if m == 'gp':\n",
    "                    results[dT][m]['pred'],_ = regressors[m].predict(inputData[dT])\n",
    "                else:\n",
    "                    results[dT][m]['pred'] = regressors[m].predict(inputData[dT])\n",
    "        print 'Prediction done!'\n",
    "            \n",
    "        # get the correlation coefficients, rmse and nrmse\n",
    "        for dT in dataTypes:\n",
    "            for m in models:\n",
    "                results[dT][m]['rmse'] = np.sqrt(metrics.mean_squared_error(trueData[dT],results[dT][m]['pred'],multioutput='raw_values'))\n",
    "                results[dT][m]['nrmse'] = np.divide(np.sqrt(metrics.mean_squared_error(trueData[dT],results[dT][m]['pred'],multioutput='raw_values')), \n",
    "                                                    trueData[dT].max(axis=0) - trueData[dT].min(axis=0))\n",
    "                results[dT][m]['corr'] = np.zeros((1,dims[1]))\n",
    "                for d in range(dims[1]):\n",
    "                    results[dT][m]['corr'][0,d],_ = stats.pearsonr(trueData[dT][:,d],results[dT][m]['pred'][:,d])\n",
    "\n",
    "        pickle.dump(results,open('../Results/Exp2/RegRes%d%d.p' % (nS+1,nP+1), 'wb'))        \n",
    "        print 'Saving done!'"
   ]
  }
 ],
 "metadata": {
  "kernelspec": {
   "display_name": "Python 2",
   "language": "python",
   "name": "python2"
  },
  "language_info": {
   "codemirror_mode": {
    "name": "ipython",
    "version": 2
   },
   "file_extension": ".py",
   "mimetype": "text/x-python",
   "name": "python",
   "nbconvert_exporter": "python",
   "pygments_lexer": "ipython2",
   "version": "2.7.6"
  },
  "widgets": {
   "state": {},
   "version": "1.1.2"
  }
 },
 "nbformat": 4,
 "nbformat_minor": 0
}
