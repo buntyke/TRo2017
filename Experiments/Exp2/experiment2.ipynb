{
 "cells": [
  {
   "cell_type": "markdown",
   "metadata": {},
   "source": [
    "# Experiment 2: TRo Journal\n",
    "---\n",
    "\n",
    "Compare the predictive performance of using MRD with respect to other standard regression frameworks such as nearest neighbor regression, linear regression, neural networks and gaussian process regression.\n",
    "\n",
    "In this Ipython notebook, the predictive performance of MRD is evaluated on the same dataset as used for other regression models. The metrics for evaluation are RMS error, normalized RMS error and pearson correlation."
   ]
  },
  {
   "cell_type": "code",
   "execution_count": null,
   "metadata": {},
   "outputs": [],
   "source": [
    "# import the modules\n",
    "import os\n",
    "import sys\n",
    "import GPy\n",
    "import csv\n",
    "import random\n",
    "import numpy as np\n",
    "import cPickle as pickle\n",
    "import scipy.stats as stats\n",
    "import sklearn.metrics as metrics\n",
    "from matplotlib import pyplot as plt\n",
    "\n",
    "%matplotlib notebook"
   ]
  },
  {
   "cell_type": "markdown",
   "metadata": {},
   "source": [
    "## Plotting and Analysis Functions\n",
    "---"
   ]
  },
  {
   "cell_type": "code",
   "execution_count": null,
   "metadata": {},
   "outputs": [],
   "source": [
    "# function to compute reconstruction error\n",
    "def reconstructionError(model, valData, testData, mKey, kKey, optimizeFlag=False):    \n",
    "    nSamplesVal = valData[mKey].shape[0]\n",
    "    nSamplesTest = testData[mKey].shape[0]\n",
    "    \n",
    "    nDimIn = valData[kKey].shape[1]\n",
    "    nDimOut = valData[mKey].shape[1]\n",
    "    \n",
    "    qDim = model.X.mean.shape[1]\n",
    "    \n",
    "    # computing reconstruction error for test1, test2 with variances\n",
    "    predictVal = np.zeros((nSamplesVal,nDimOut))\n",
    "    predictTest = np.zeros((nSamplesTest,nDimOut))\n",
    "\n",
    "    for n in range(nSamplesVal):\n",
    "        yIn = valData[kKey][n,:]\n",
    "        yTrueOut = valData[mKey][n,:]\n",
    "    \n",
    "        [xPredict, infX] = model.Y0.infer_newX(yIn[None,:], optimize=False)\n",
    "        yOut = model.predict(xPredict.mean, Yindex=1)    \n",
    "        sys.stdout.write('.')\n",
    "        \n",
    "        predictVal[n,:] = yOut[0]\n",
    "    sys.stdout.write('\\n')\n",
    "        \n",
    "    for n in range(nSamplesTest):\n",
    "        yIn = testData[kKey][n,:]\n",
    "        yTrueOut = testData[mKey][n,:]\n",
    "    \n",
    "        [xPredict, infX] = model.Y0.infer_newX(yIn[None,:], optimize=optimizeFlag)\n",
    "        yOut = model.predict(xPredict.mean, Yindex=1)    \n",
    "        sys.stdout.write('.')\n",
    "        \n",
    "        predictTest[n,:] = yOut[0]\n",
    "    sys.stdout.write('\\n')\n",
    "    results = {}\n",
    "    valResults = {}\n",
    "    testResults = {}\n",
    "    \n",
    "    valResults['pred'] = predictVal\n",
    "    testResults['pred'] = predictTest\n",
    "    \n",
    "    valErrors = np.sqrt(metrics.mean_squared_error(valData[mKey],predictVal,multioutput='raw_values'))\n",
    "    testErrors = np.sqrt(metrics.mean_squared_error(testData[mKey],predictTest,multioutput='raw_values'))\n",
    "\n",
    "    valNormErrors = np.divide(np.sqrt(metrics.mean_squared_error(valData[mKey],predictVal,multioutput='raw_values')), \n",
    "                              valData[mKey].max(axis=0) - valData[mKey].min(axis=0))\n",
    "    testNormErrors = np.divide(np.sqrt(metrics.mean_squared_error(testData[mKey],predictTest,multioutput='raw_values')), \n",
    "                               testData[mKey].max(axis=0) - testData[mKey].min(axis=0))\n",
    "\n",
    "    valCorr = np.zeros((1,nDimOut))\n",
    "    testCorr = np.zeros((1,nDimOut))\n",
    "    for d in range(dims[1]):\n",
    "        valCorr[0,d],_ = stats.pearsonr(valData[mKey][:,d],predictVal[:,d])\n",
    "        testCorr[0,d],_ = stats.pearsonr(testData[mKey][:,d],predictTest[:,d])\n",
    "\n",
    "    valResults['rmse'] = valErrors\n",
    "    testResults['rmse'] = testErrors\n",
    "    \n",
    "    valResults['nrmse'] = valNormErrors\n",
    "    testResults['nrmse'] = testNormErrors\n",
    "    \n",
    "    valResults['corr'] = valCorr\n",
    "    testResults['corr'] = testCorr\n",
    "        \n",
    "    results['train'] = valResults\n",
    "    results['test'] = testResults\n",
    "    return results"
   ]
  },
  {
   "cell_type": "markdown",
   "metadata": {},
   "source": [
    "## Test Analysis\n",
    "---"
   ]
  },
  {
   "cell_type": "code",
   "execution_count": null,
   "metadata": {
    "collapsed": true
   },
   "outputs": [],
   "source": [
    "# create directory for results\n",
    "dName = '../Results/Exp2'\n",
    "if not os.path.exists(dName):\n",
    "    os.makedirs(dName)\n",
    "\n",
    "# load dataset\n",
    "Data = pickle.load(open('../Data/Data.p','rb'))"
   ]
  },
  {
   "cell_type": "code",
   "execution_count": null,
   "metadata": {
    "scrolled": false
   },
   "outputs": [],
   "source": [
    "nPos = 6\n",
    "nShr = 4\n",
    "dims = [7500,8]\n",
    "keys = ['Cloud','TopCoord']\n",
    "\n",
    "names = []\n",
    "for nS in range(nShr):\n",
    "    for nP in range(nPos):\n",
    "        names.append('K1S%dP%dT1' % (nS+1,nP+1))    \n",
    "\n",
    "# cross validation loop\n",
    "for nS in range(nShr):\n",
    "    for nP in range(nPos):\n",
    "        testInd = nS*nPos+nP\n",
    "        valInd = nS*nPos+(nP+1)%nPos\n",
    "        \n",
    "        print 'Cycle:%d,%d' % (nS+1,nP+1)\n",
    "        print names[valInd], names[testInd]\n",
    "    \n",
    "        valData = {}\n",
    "        testData = {}\n",
    "        for key,dim in zip(keys,dims):\n",
    "            valData[key] = Data[names[valInd]][key]\n",
    "            testData[key] = Data[names[testInd]][key]\n",
    "            \n",
    "        mrdModel = pickle.load(open('../Models/Model%d%d.p' % (nS+1,nP+1), 'rb'))\n",
    "        results = reconstructionError(mrdModel,valData,testData,'TopCoord','Cloud',optimizeFlag=True)\n",
    "        pickle.dump(results, open('../Results/Exp2/MRDRes%d%d.p' % (nS+1,nP+1), 'wb'))"
   ]
  }
 ],
 "metadata": {
  "kernelspec": {
   "display_name": "Python 2",
   "language": "python",
   "name": "python2"
  },
  "language_info": {
   "codemirror_mode": {
    "name": "ipython",
    "version": 2
   },
   "file_extension": ".py",
   "mimetype": "text/x-python",
   "name": "python",
   "nbconvert_exporter": "python",
   "pygments_lexer": "ipython2",
   "version": "2.7.6"
  },
  "widgets": {
   "state": {},
   "version": "1.1.2"
  }
 },
 "nbformat": 4,
 "nbformat_minor": 1
}
