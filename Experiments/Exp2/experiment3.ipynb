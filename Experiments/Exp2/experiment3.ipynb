{
 "cells": [
  {
   "cell_type": "markdown",
   "metadata": {},
   "source": [
    "# Experiment 2: TRo Journal\n",
    "---\n",
    "\n",
    "Compare the predictive performance of using MRD with respect to other standard regression frameworks such as nearest neighbor regression, linear regression, neural networks and gaussian process regression.\n",
    "\n",
    "In this Ipython notebook, all the metrics are loaded and statistical significance tests are applied in comparison to MRD. Finally bar plots are made indicating the difference visually."
   ]
  },
  {
   "cell_type": "code",
   "execution_count": null,
   "metadata": {
    "collapsed": true
   },
   "outputs": [],
   "source": [
    "# import the modules\n",
    "import GPy\n",
    "import csv\n",
    "import sys\n",
    "import numpy as np\n",
    "import pandas as pd\n",
    "import seaborn as sns\n",
    "import cPickle as pickle\n",
    "from matplotlib import cm\n",
    "import scipy.stats as stats\n",
    "from scipy.stats import norm\n",
    "import sklearn.metrics as metrics\n",
    "from numpy import sqrt, abs, round\n",
    "from matplotlib import pyplot as plt\n",
    "from sklearn.neighbors import NearestNeighbors\n",
    "\n",
    "%matplotlib notebook"
   ]
  },
  {
   "cell_type": "code",
   "execution_count": null,
   "metadata": {
    "collapsed": true
   },
   "outputs": [],
   "source": [
    "# sns properties\n",
    "sns.set_style(\"white\")\n",
    "sns.set_context(\"paper\", font_scale=2.0, rc={\"lines.linewidth\": 2.0})"
   ]
  },
  {
   "cell_type": "markdown",
   "metadata": {},
   "source": [
    "# Data Loading\n",
    "---"
   ]
  },
  {
   "cell_type": "code",
   "execution_count": null,
   "metadata": {
    "collapsed": false
   },
   "outputs": [],
   "source": [
    "kinectExt = 'C'\n",
    "kinectDim = 7500\n",
    "kinectKey = 'Cloud'\n",
    "\n",
    "mocapDim = 8\n",
    "mocapExt = 'T'\n",
    "mocapKey = 'TopCoord'\n",
    "\n",
    "dataTypes = ['train','test']\n",
    "parameters = ['rmse','nrmse','corr']\n",
    "models = ['mlp','lr','nn','gp','mrd']"
   ]
  },
  {
   "cell_type": "code",
   "execution_count": null,
   "metadata": {
    "collapsed": false
   },
   "outputs": [],
   "source": [
    "nPos = 6\n",
    "nShr = 4\n",
    "nMod = 5\n",
    "nTypes = 2\n",
    "nParam = 3\n",
    "dims = [kinectDim,mocapDim]\n",
    "keys = [kinectKey,mocapKey]\n",
    "\n",
    "names = []\n",
    "for nS in range(nShr):\n",
    "    for nP in range(nPos):\n",
    "        names.append('K1S%dP%dT1' % (nS+1,nP+1))  \n",
    "        \n",
    "compRes = np.zeros((nTypes,nMod,nParam,nShr,nPos))\n",
    "\n",
    "for nS in range(nShr):\n",
    "    for nP in range(nPos):\n",
    "        regRes = pickle.load(open('../Results/Exp2/RegRes%d%d.p' % (nS+1,nP+1),'rb'))\n",
    "        mrdRes = pickle.load(open('../Results/Exp2/MRDRes%d%d.p' % (nS+1,nP+1),'rb'))\n",
    "        \n",
    "        for d,dataType in zip(range(nTypes),dataTypes):\n",
    "            for m,model in zip(range(nMod-1),models):\n",
    "                for p,parameter in zip(range(nParam),parameters):\n",
    "                    compRes[d,m,p,nS,nP] = regRes[dataType][model][parameter].mean()\n",
    "    \n",
    "        for d,dataType in zip(range(nTypes),dataTypes):\n",
    "            for p,parameter in zip(range(nParam),parameters):\n",
    "                compRes[d,-1,p,nS,nP] = mrdRes[dataType][parameter].mean()\n",
    "\n",
    "pickle.dump(compRes,open('Result/metricResults.p','wb'))"
   ]
  },
  {
   "cell_type": "markdown",
   "metadata": {},
   "source": [
    "# Statistical Significance Tests\n",
    "---"
   ]
  },
  {
   "cell_type": "code",
   "execution_count": null,
   "metadata": {
    "collapsed": false
   },
   "outputs": [],
   "source": [
    "# variables for analysis\n",
    "statRes = {}\n",
    "\n",
    "for m,model in zip(range(len(models)-1),models):\n",
    "    statRes[model] = {}\n",
    "    for p,parameter in zip(range(len(parameters)),parameters):\n",
    "        _, pval = stats.wilcoxon(compRes[1,m,p,:,:].flatten(), compRes[1,-1,p,:,:].flatten())\n",
    "        statRes[model][parameter] = pval/2.0       \n",
    "    print model,': ',statRes[model]\n",
    "    \n",
    "pickle.dump(statRes,open('Result/statResults.p','wb'))"
   ]
  },
  {
   "cell_type": "markdown",
   "metadata": {},
   "source": [
    "## Plotting\n",
    "---"
   ]
  },
  {
   "cell_type": "code",
   "execution_count": null,
   "metadata": {
    "collapsed": false
   },
   "outputs": [],
   "source": [
    "nTrials = nShr*nPos\n",
    "dataTypes = ['Train','Test']\n",
    "columns = ['Value','Type','Model','Param']\n",
    "parameters = ['rmse','nrmse','corr']\n",
    "models = ['MLP','Lin Reg','K-NN','GP Reg','MRD']\n",
    "\n",
    "dataFrame = pd.DataFrame(columns=columns)\n",
    "for d,dataType in zip(range(nTypes),dataTypes):\n",
    "    for m,model in zip(range(nMod),models):\n",
    "        for p,parameter in zip(range(nParam),parameters):\n",
    "            dat = np.atleast_2d(compRes[d,m,p,:,:].flatten())\n",
    "            dat = np.concatenate((dat,np.atleast_2d([dataType]*nTrials)),axis=0)\n",
    "            dat = np.concatenate((dat,np.atleast_2d([model]*nTrials)),axis=0)\n",
    "            dat = np.concatenate((dat,np.atleast_2d([parameter]*nTrials)),axis=0)\n",
    "            dF = pd.DataFrame(dat.transpose(),columns=columns)\n",
    "            dataFrame = dataFrame.append(dF)\n",
    "dataFrame.index = range(nTypes*nMod*nParam*nTrials)\n",
    "dataFrame['Value'] = dataFrame['Value'].apply(pd.to_numeric)"
   ]
  },
  {
   "cell_type": "code",
   "execution_count": null,
   "metadata": {
    "collapsed": false
   },
   "outputs": [],
   "source": [
    "props = {'connectionstyle':'bar,fraction=0.15', 'arrowstyle':'-', 'lw':2}\n",
    "\n",
    "dF = dataFrame[dataFrame['Param'] == 'rmse']\n",
    "fig = plt.figure()\n",
    "ax = sns.boxplot(x='Type', y='Value', hue='Model', data=dF, notch=True)\n",
    "ax.set_xlabel('')\n",
    "ax.set_ylabel('RMSE')\n",
    "ax.legend_.set_title('')\n",
    "ax.set_ylim([0.0,1.2])\n",
    "ax.text(1.24375, 1.03, '*', horizontalalignment='center', verticalalignment='center')\n",
    "ax.annotate(\"\", xy=(1.1625,1), xycoords='data', xytext=(1.325,1), textcoords='data', arrowprops=props)\n",
    "ax.text(1.1625, 1.1, '***', horizontalalignment='center', verticalalignment='center')\n",
    "ax.annotate(\"\", xy=(1.0,1.05), xycoords='data', xytext=(1.325,1.05), textcoords='data', arrowprops=props)\n",
    "plt.tight_layout()\n",
    "plt.savefig('Result/modelRMSE.pdf', format='pdf')"
   ]
  },
  {
   "cell_type": "code",
   "execution_count": null,
   "metadata": {
    "collapsed": false
   },
   "outputs": [],
   "source": [
    "dF = dataFrame[dataFrame['Param'] == 'nrmse']\n",
    "fig = plt.figure()\n",
    "ax = sns.boxplot(x='Type', y='Value', hue='Model', data=dF, notch=True, fliersize=0)\n",
    "ax.set_xlabel('')\n",
    "ax.set_ylabel('NRMSE')\n",
    "ax.set_ylim([0.0,0.35])\n",
    "ax.legend_.set_title('')\n",
    "ax.text(1.24375, 0.20, '***', horizontalalignment='center', verticalalignment='center')\n",
    "ax.annotate(\"\", xy=(1.1625,0.19), xycoords='data', xytext=(1.325,0.19), textcoords='data', arrowprops=props)\n",
    "ax.text(1.1625, 0.225, '***', horizontalalignment='center', verticalalignment='center')\n",
    "ax.annotate(\"\", xy=(1.0,0.21), xycoords='data', xytext=(1.325,0.21), textcoords='data', arrowprops=props)\n",
    "plt.tight_layout()\n",
    "plt.savefig('Result/modelNRMSE.pdf', format='pdf')"
   ]
  },
  {
   "cell_type": "code",
   "execution_count": null,
   "metadata": {
    "collapsed": false
   },
   "outputs": [],
   "source": [
    "dF = dataFrame[dataFrame['Param'] == 'corr']\n",
    "fig = plt.figure()\n",
    "ax = sns.boxplot(x='Type', y='Value', hue='Model', data=dF, notch=True, fliersize=0)\n",
    "ax.set_xlabel('')\n",
    "ax.legend_.set_title('')\n",
    "ax.set_ylim([0.7,1.04])\n",
    "ax.set_ylabel('Pearson Correlation')\n",
    "ax.text(1.24375, 0.99, '***', horizontalalignment='center', verticalalignment='center')\n",
    "ax.annotate(\"\", xy=(1.1625,0.98), xycoords='data', xytext=(1.325,0.98), textcoords='data', arrowprops=props)\n",
    "ax.text(1.1625, 1.02, '***', horizontalalignment='center', verticalalignment='center')\n",
    "ax.annotate(\"\", xy=(1.0,1.0), xycoords='data', xytext=(1.325,1.0), textcoords='data', arrowprops=props)\n",
    "plt.tight_layout()\n",
    "plt.savefig('Result/modelCorr.pdf', format='pdf')"
   ]
  }
 ],
 "metadata": {
  "kernelspec": {
   "display_name": "Python 2",
   "language": "python",
   "name": "python2"
  },
  "language_info": {
   "codemirror_mode": {
    "name": "ipython",
    "version": 2
   },
   "file_extension": ".py",
   "mimetype": "text/x-python",
   "name": "python",
   "nbconvert_exporter": "python",
   "pygments_lexer": "ipython2",
   "version": "2.7.6"
  },
  "widgets": {
   "state": {},
   "version": "1.1.2"
  }
 },
 "nbformat": 4,
 "nbformat_minor": 0
}
