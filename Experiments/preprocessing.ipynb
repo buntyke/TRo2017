{
 "cells": [
  {
   "cell_type": "markdown",
   "metadata": {},
   "source": [
    "# Preprocessing: TRo Journal\n",
    "---\n",
    "\n",
    "Generate pickle files that are used in different experiments."
   ]
  },
  {
   "cell_type": "code",
   "execution_count": null,
   "metadata": {
    "collapsed": true
   },
   "outputs": [],
   "source": [
    "# import the modules\n",
    "import csv\n",
    "import numpy as np\n",
    "import cPickle as pickle"
   ]
  },
  {
   "cell_type": "markdown",
   "metadata": {},
   "source": [
    "## Generate Pickle Files\n",
    "---"
   ]
  },
  {
   "cell_type": "code",
   "execution_count": null,
   "metadata": {
    "collapsed": false
   },
   "outputs": [],
   "source": [
    "# load all the files and create Data\n",
    "trackPath = 'Data/Tracks/'\n",
    "mocapPath = 'Data/MocapData/'\n",
    "kinectPath = 'Data/KinectData/'\n",
    "\n",
    "nTypes = 3\n",
    "dataFormats = ['','Cloud','TopCoord']\n",
    "dataKeys = ['Time','Cloud','TopCoord']\n",
    "paths = [trackPath,kinectPath, mocapPath]\n",
    "\n",
    "nPos = 6\n",
    "nShr = 4\n",
    "names = []\n",
    "for nS in range(nShr):\n",
    "    for nP in range(nPos):\n",
    "        names.append('K1S%dP%dT1' % (nS+1,nP+1))\n",
    "\n",
    "# loop over all names\n",
    "Data = {}\n",
    "for fileName in names:\n",
    "    data = {}\n",
    "    for ind in range(nTypes):\n",
    "        dataName = paths[ind] + fileName + dataFormats[ind] \n",
    "        reader = csv.reader(open(dataName,\"rb\"), delimiter=',')\n",
    "\n",
    "        d = np.array(list(reader))\n",
    "        data[dataKeys[ind]] = d.astype('float')        \n",
    "    Data[fileName] = data\n",
    "\n",
    "# dump complete dataset to pickle file (large one)\n",
    "pickle.dump(Data,open('Data/Data.p','wb'))"
   ]
  },
  {
   "cell_type": "code",
   "execution_count": null,
   "metadata": {
    "collapsed": true
   },
   "outputs": [],
   "source": [
    "# load all the files and create Data\n",
    "trackPath = 'Data/Tracks/'\n",
    "mocapPath = 'Data/MocapData/'\n",
    "kinectPath = 'Data/KinectData/'\n",
    "\n",
    "names = ['K1S1P1T1','K1S1P2T1','K1S1P3T1','K1S1P4T1','K1S1P5T1','K1S1P6T1']\n",
    "\n",
    "nTypes = 9\n",
    "\n",
    "dataFormats = ['','ESF','Cloud','Color','Depth','Marker','CircleParam','CircleMarker','TopCoord']\n",
    "dataKeys = ['Time','ESF','Cloud','Color','Depth','Marker','CircleParam','CircleMarker','TopCoord']\n",
    "\n",
    "paths = [trackPath, kinectPath, kinectPath, kinectPath, kinectPath, mocapPath, mocapPath, mocapPath, mocapPath]\n",
    "\n",
    "# read all the file names and save to dicts\n",
    "Data = {}\n",
    "# loop over all names\n",
    "for fileName in names:\n",
    "    data = {}\n",
    "    for ind in range(nTypes):\n",
    "        dataName = paths[ind] + fileName + dataFormats[ind] \n",
    "        reader = csv.reader(open(dataName,\"rb\"), delimiter=',')\n",
    "\n",
    "        d = np.array(list(reader))\n",
    "        if ind in [3,4]:\n",
    "            data[dataKeys[ind]] = d.astype('int')\n",
    "        else:\n",
    "            data[dataKeys[ind]] = d.astype('float')        \n",
    "    Data[fileName] = data\n",
    "pickle.dump(Data,open('Data/FeatureData.p','wb'))"
   ]
  }
 ],
 "metadata": {
  "kernelspec": {
   "display_name": "Python 2",
   "language": "python",
   "name": "python2"
  },
  "language_info": {
   "codemirror_mode": {
    "name": "ipython",
    "version": 2
   },
   "file_extension": ".py",
   "mimetype": "text/x-python",
   "name": "python",
   "nbconvert_exporter": "python",
   "pygments_lexer": "ipython2",
   "version": "2.7.6"
  },
  "widgets": {
   "state": {},
   "version": "1.1.2"
  }
 },
 "nbformat": 4,
 "nbformat_minor": 0
}
