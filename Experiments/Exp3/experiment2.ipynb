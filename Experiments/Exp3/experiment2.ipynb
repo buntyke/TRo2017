{
 "cells": [
  {
   "cell_type": "markdown",
   "metadata": {},
   "source": [
    "# Experiment 3: TRo Journal\n",
    "---\n",
    "\n",
    "Compare the predictive performance of using different inference techniques in MRD. The performance is evaluated over unseen T-shirts and postures that are not part of the training dataset.\n",
    "\n",
    "The metrics for evaluation are RMS error, normalized RMS error and pearson correlation. Statistical significance is evaluated using wilcoxon signed rank sum test.\n",
    "\n",
    "In this notebook, the various metrics are collected from all the pickle files along with evaluating statistical significance of differences between the inference techniques. Finally plots are made to be included in the paper."
   ]
  },
  {
   "cell_type": "code",
   "execution_count": null,
   "metadata": {
    "collapsed": false
   },
   "outputs": [],
   "source": [
    "# import the modules\n",
    "import GPy\n",
    "import csv\n",
    "import numpy as np\n",
    "import pandas as pd\n",
    "import seaborn as sns\n",
    "import cPickle as pickle\n",
    "from matplotlib import cm\n",
    "import scipy.stats as stats\n",
    "from scipy.stats import norm\n",
    "import sklearn.metrics as metrics\n",
    "from numpy import sqrt, abs, round\n",
    "from matplotlib import pyplot as plt\n",
    "from sklearn.neighbors import NearestNeighbors\n",
    "\n",
    "%matplotlib notebook"
   ]
  },
  {
   "cell_type": "code",
   "execution_count": null,
   "metadata": {
    "collapsed": true
   },
   "outputs": [],
   "source": [
    "# sns properties\n",
    "sns.set_style(\"white\")\n",
    "sns.set_context(\"paper\", font_scale=2.5, rc={\"lines.linewidth\": 2.0})"
   ]
  },
  {
   "cell_type": "markdown",
   "metadata": {},
   "source": [
    "## Main Analysis\n",
    "---"
   ]
  },
  {
   "cell_type": "code",
   "execution_count": null,
   "metadata": {
    "collapsed": false
   },
   "outputs": [],
   "source": [
    "nPos = 6\n",
    "nShr = 4\n",
    "nFunc = 3\n",
    "nParam = 4\n",
    "nTypes = 2\n",
    "dataTypes = ['Pos','Shr']\n",
    "parameters = ['rmse','nrmse','corr','time']\n",
    "functions = ['nnsearch','filter','optimize']\n",
    "\n",
    "metricRes = {}\n",
    "nTrials = {'Pos':1,'Shr':3}\n",
    "\n",
    "for dT,dataType in zip(range(nTypes),dataTypes):\n",
    "    metricRes[dataType] = np.zeros((nFunc,nParam,nShr,nPos,nTrials[dataType]))\n",
    "    for nS in range(nShr):\n",
    "        for nP in range(nPos):\n",
    "            if dataType == 'Shr':\n",
    "                inds = [((nS+1)%4)*nPos+nP,((nS+1)%4)*nPos+(nP+1)%nPos,((nS+1)%4)*nPos+(nP+2)%nPos]\n",
    "\n",
    "            for nT in range(nTrials[dataType]):\n",
    "                if dataType == 'Pos':\n",
    "                    res = pickle.load(open('../Results/Exp3/Res%s%d%d.p' % (dataType,nS+1,nP+1),'rb'))\n",
    "                else:\n",
    "                    res = pickle.load(open('../Results/Exp3/Res%s%d%d%02d.p' % (dataType,nS+1,nP+1,inds[nT]+1),'rb'))\n",
    "                    \n",
    "                for f,function in zip(range(nFunc),functions):\n",
    "                    for p,parameter in zip(range(nParam),parameters):\n",
    "                        if parameter != 'time':\n",
    "                            metricRes[dataType][f,p,nS,nP,nT] = res[function][parameter].mean()\n",
    "                        else:\n",
    "                            metricRes[dataType][f,p,nS,nP,nT] = res[function][parameter]\n",
    "pickle.dump(metricRes,open('Result/metricResults.p','wb'))"
   ]
  },
  {
   "cell_type": "code",
   "execution_count": null,
   "metadata": {
    "collapsed": false
   },
   "outputs": [],
   "source": [
    "# variables for analysis\n",
    "statRes1 = {}\n",
    "pairs = {'fn':[0,1],'no':[0,2],'of':[1,2]}\n",
    "\n",
    "statRes1 = {}\n",
    "for key in pairs.keys():\n",
    "    indices = pairs[key]\n",
    "    statRes1[key] = {}\n",
    "    for p,parameter in zip(range(nParam),parameters):\n",
    "        data1 = np.empty(0)\n",
    "        data2 = np.empty(0)\n",
    "        for dT,dataType in zip(range(nTypes),dataTypes):\n",
    "            data1 = np.concatenate((data1,metricRes[dataType][indices[0],p,:,:,:].flatten()))\n",
    "            data2 = np.concatenate((data2,metricRes[dataType][indices[1],p,:,:,:].flatten()))\n",
    "        _, pval = stats.wilcoxon(data1, data2)\n",
    "        statRes1[key][parameter] = pval/2.0       \n",
    "    print key,': ',statRes1[key]\n",
    "    \n",
    "pickle.dump(statRes1,open('Result/statResults1.p','wb'))"
   ]
  },
  {
   "cell_type": "code",
   "execution_count": null,
   "metadata": {
    "collapsed": false
   },
   "outputs": [],
   "source": [
    "# variables for analysis\n",
    "statRes2 = {}\n",
    "pairs = {'fn':[0,1],'no':[0,2],'of':[1,2]}\n",
    "\n",
    "for dT,dataType in zip(range(nTypes),dataTypes):\n",
    "    statRes2[dataType] = {}\n",
    "    for key in pairs.keys():\n",
    "        indices = pairs[key]\n",
    "        statRes2[dataType][key] = {}\n",
    "        for p,parameter in zip(range(nParam),parameters):\n",
    "            _, pval = stats.wilcoxon(metricRes[dataType][indices[0],p,:,:,:].flatten(), metricRes[dataType][indices[1],p,:,:,:].flatten())\n",
    "            statRes2[dataType][key][parameter] = pval/2.0       \n",
    "        print dataType,key,': ',statRes2[dataType][key]\n",
    "    \n",
    "pickle.dump(statRes2,open('Result/statResults2.p','wb'))"
   ]
  },
  {
   "cell_type": "code",
   "execution_count": null,
   "metadata": {
    "collapsed": true
   },
   "outputs": [],
   "source": [
    "dataTypes = ['Pos','Shr']\n",
    "parameters = ['rmse','nrmse','corr','time']\n",
    "functions = ['NNSearch','Hybrid','Optimize']\n",
    "columns = ['Value','Type','Function','Param']\n",
    "\n",
    "dataFrame = pd.DataFrame(columns=columns)\n",
    "for d,dataType in zip(range(nTypes),dataTypes):\n",
    "    nTr = nShr*nPos*nTrials[dataType]\n",
    "    for f,function in zip(range(nFunc),functions):\n",
    "        for p,parameter in zip(range(nParam),parameters):\n",
    "            dat = np.atleast_2d(metricRes[dataType][f,p,:,:,:].flatten())\n",
    "            dat = np.concatenate((dat,np.atleast_2d([dataType]*nTr)),axis=0)\n",
    "            dat = np.concatenate((dat,np.atleast_2d([function]*nTr)),axis=0)\n",
    "            dat = np.concatenate((dat,np.atleast_2d([parameter]*nTr)),axis=0)\n",
    "            dF = pd.DataFrame(dat.transpose(),columns=columns)\n",
    "            dataFrame = dataFrame.append(dF)\n",
    "\n",
    "dataFrame.index = range(dataFrame.shape[0])\n",
    "dataFrame['Value'] = dataFrame['Value'].apply(pd.to_numeric)"
   ]
  },
  {
   "cell_type": "code",
   "execution_count": null,
   "metadata": {
    "collapsed": false
   },
   "outputs": [],
   "source": [
    "props = {'connectionstyle':'bar,fraction=0.15', 'arrowstyle':'-', 'lw':2}\n",
    "\n",
    "dF = dataFrame[dataFrame['Param'] == 'rmse']\n",
    "fig = plt.figure()\n",
    "ax = sns.boxplot(x='Type', y='Value', hue='Function', data=dF, whis=1.0, fliersize=0, notch=True)\n",
    "ax.set_xlabel('')\n",
    "ax.set_ylabel('RMSE')\n",
    "ax.set_ylim([0.2,2.3])\n",
    "ax.legend_.set_title('')\n",
    "\n",
    "# Posture Annotation\n",
    "ax.text(0.0, 1.28, '***', horizontalalignment='center', verticalalignment='center')\n",
    "ax.text(-0.125, 1.11, '***', horizontalalignment='center', verticalalignment='center')\n",
    "ax.text(0.125, 1.05, '**', horizontalalignment='center', verticalalignment='center')\n",
    "ax.annotate(\"\", xy=(-0.25,1.15), xycoords='data', xytext=(0.25,1.15), textcoords='data', arrowprops=props)\n",
    "ax.annotate(\"\", xy=(-0.25,1.03), xycoords='data', xytext=(0.0,1.03), textcoords='data', arrowprops=props)\n",
    "ax.annotate(\"\", xy=(0.0,0.98), xycoords='data', xytext=(0.25,0.98), textcoords='data', arrowprops=props)\n",
    "\n",
    "# Shirt Annotation\n",
    "ax.text(1.0, 1.38, '***', horizontalalignment='center', verticalalignment='center')\n",
    "ax.text(0.875, 1.24, '***', horizontalalignment='center', verticalalignment='center')\n",
    "ax.text(1.125, 1.22, '***', horizontalalignment='center', verticalalignment='center')\n",
    "ax.annotate(\"\", xy=(0.75,1.25), xycoords='data', xytext=(1.25,1.25), textcoords='data', arrowprops=props)\n",
    "ax.annotate(\"\", xy=(0.75,1.16), xycoords='data', xytext=(1.0,1.16), textcoords='data', arrowprops=props)\n",
    "ax.annotate(\"\", xy=(1.0,1.14), xycoords='data', xytext=(1.25,1.14), textcoords='data', arrowprops=props)\n",
    "\n",
    "plt.tight_layout()\n",
    "plt.savefig('Result/inferRMSE.pdf', format='pdf')"
   ]
  },
  {
   "cell_type": "code",
   "execution_count": null,
   "metadata": {
    "collapsed": false
   },
   "outputs": [],
   "source": [
    "dF = dataFrame[dataFrame['Param'] == 'nrmse']\n",
    "fig = plt.figure()\n",
    "ax = sns.boxplot(x='Type', y='Value', hue='Function', data=dF, whis=1.0, fliersize=0, notch=True)\n",
    "ax.set_xlabel('')\n",
    "ax.legend_.remove()\n",
    "ax.set_ylabel('NRMSE')\n",
    "ax.set_ylim([0.05,0.27])\n",
    "\n",
    "# Posture Annotation\n",
    "ax.text(0.0, 0.22, '***', horizontalalignment='center', verticalalignment='center')\n",
    "ax.text(-0.125, 0.205, '*', horizontalalignment='center', verticalalignment='center')\n",
    "ax.text(0.125, 0.195, '**', horizontalalignment='center', verticalalignment='center')\n",
    "ax.annotate(\"\", xy=(-0.25,0.205), xycoords='data', xytext=(0.25,0.205), textcoords='data', arrowprops=props)\n",
    "ax.annotate(\"\", xy=(-0.25,0.19), xycoords='data', xytext=(0.0,0.19), textcoords='data', arrowprops=props)\n",
    "ax.annotate(\"\", xy=(0.0,0.185), xycoords='data', xytext=(0.25,0.185), textcoords='data', arrowprops=props)\n",
    "\n",
    "# Shirt Annotation\n",
    "ax.text(1.0, 0.255, '**', horizontalalignment='center', verticalalignment='center')\n",
    "ax.text(0.875, 0.235, 'n.s', horizontalalignment='center', verticalalignment='center')\n",
    "ax.text(1.125, 0.23, '*', horizontalalignment='center', verticalalignment='center')\n",
    "ax.annotate(\"\", xy=(0.75,0.24), xycoords='data', xytext=(1.25,0.24), textcoords='data', arrowprops=props)\n",
    "ax.annotate(\"\", xy=(0.75,0.22), xycoords='data', xytext=(1.0,0.22), textcoords='data', arrowprops=props)\n",
    "ax.annotate(\"\", xy=(1.0,0.22), xycoords='data', xytext=(1.25,0.22), textcoords='data', arrowprops=props)\n",
    "\n",
    "plt.tight_layout()\n",
    "plt.savefig('Result/inferNRMSE.pdf', format='pdf')"
   ]
  },
  {
   "cell_type": "code",
   "execution_count": null,
   "metadata": {
    "collapsed": false
   },
   "outputs": [],
   "source": [
    "dF = dataFrame[dataFrame['Param'] == 'corr']\n",
    "fig = plt.figure()\n",
    "ax = sns.boxplot(x='Type', y='Value', hue='Function', data=dF, whis=1.0, fliersize=0, notch=True)\n",
    "ax.set_xlabel('')\n",
    "ax.set_ylim([0.7,1.05])\n",
    "ax.legend_.set_title('')\n",
    "ax.set_ylabel('Pearson Correlation')\n",
    "\n",
    "# Posture Annotation\n",
    "ax.text(0.0, 1.027, '***', horizontalalignment='center', verticalalignment='center')\n",
    "ax.text(-0.125, 0.99, '***', horizontalalignment='center', verticalalignment='center')\n",
    "ax.text(0.125, 0.99, '**', horizontalalignment='center', verticalalignment='center')\n",
    "ax.annotate(\"\", xy=(-0.25,1.0), xycoords='data', xytext=(0.25,1.0), textcoords='data', arrowprops=props)\n",
    "ax.annotate(\"\", xy=(-0.25,0.975), xycoords='data', xytext=(0.0,0.975), textcoords='data', arrowprops=props)\n",
    "ax.annotate(\"\", xy=(0.0,0.98), xycoords='data', xytext=(0.25,0.98), textcoords='data', arrowprops=props)\n",
    "\n",
    "# Shirt Annotation\n",
    "ax.text(1.0, 1.03, '**', horizontalalignment='center', verticalalignment='center')\n",
    "ax.text(0.875, 1.006, 'n.s', horizontalalignment='center', verticalalignment='center')\n",
    "ax.text(1.125, 1.006, 'n.s', horizontalalignment='center', verticalalignment='center')\n",
    "ax.annotate(\"\", xy=(0.75,1.0), xycoords='data', xytext=(1.25,1.0), textcoords='data', arrowprops=props)\n",
    "ax.annotate(\"\", xy=(0.75,0.98), xycoords='data', xytext=(1.0,0.98), textcoords='data', arrowprops=props)\n",
    "ax.annotate(\"\", xy=(1.0,0.98), xycoords='data', xytext=(1.25,0.98), textcoords='data', arrowprops=props)\n",
    "\n",
    "plt.tight_layout()\n",
    "plt.savefig('Result/inferCorr.pdf', format='pdf')"
   ]
  },
  {
   "cell_type": "code",
   "execution_count": null,
   "metadata": {
    "collapsed": false
   },
   "outputs": [],
   "source": [
    "dF = dataFrame[dataFrame['Param'] == 'time']\n",
    "fig = plt.figure()\n",
    "ax = sns.boxplot(x='Type', y='Value', hue='Function', data=dF, whis=1.0, fliersize=6, notch=True)\n",
    "ax.set_xlabel('')\n",
    "ax.legend_.remove()\n",
    "ax.set_ylabel('Frames per second')\n",
    "\n",
    "plt.tight_layout()\n",
    "plt.savefig('Result/inferTime.pdf', format='pdf')"
   ]
  }
 ],
 "metadata": {
  "kernelspec": {
   "display_name": "Python 2",
   "language": "python",
   "name": "python2"
  },
  "language_info": {
   "codemirror_mode": {
    "name": "ipython",
    "version": 2
   },
   "file_extension": ".py",
   "mimetype": "text/x-python",
   "name": "python",
   "nbconvert_exporter": "python",
   "pygments_lexer": "ipython2",
   "version": "2.7.6"
  },
  "widgets": {
   "state": {},
   "version": "1.1.2"
  }
 },
 "nbformat": 4,
 "nbformat_minor": 0
}
