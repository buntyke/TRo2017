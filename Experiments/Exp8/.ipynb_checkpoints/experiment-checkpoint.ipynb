{
 "cells": [
  {
   "cell_type": "markdown",
   "metadata": {},
   "source": [
    "# Feature Extraction\n",
    "---\n",
    "\n",
    "Ipython notebook for feature extraction using OpenCV"
   ]
  },
  {
   "cell_type": "code",
   "execution_count": 3,
   "metadata": {
    "collapsed": false
   },
   "outputs": [],
   "source": [
    "import cv\n",
    "import cv2\n",
    "import numpy as np\n",
    "import matplotlib.pyplot as plt\n",
    "\n",
    "%matplotlib notebook"
   ]
  },
  {
   "cell_type": "code",
   "execution_count": null,
   "metadata": {
    "collapsed": false
   },
   "outputs": [],
   "source": [
    "# file path\n",
    "path = '../Results/Exp8/'\n",
    "\n",
    "width = 400\n",
    "height = 400\n",
    "nFrames = 500\n",
    "\n",
    "writer = cv2.VideoWriter('%sFeatures.avi' % (path),cv.FOURCC('D','I','V','X'),30.0,(1000,800))"
   ]
  },
  {
   "cell_type": "code",
   "execution_count": null,
   "metadata": {
    "collapsed": false
   },
   "outputs": [],
   "source": [
    "for f in range(nFrames):\n",
    "    raw = cv2.imread('%scolor/color%03d.png' % (path,f+1),1)\n",
    "    cloud = cv2.imread('%scloud/cloud%03d.png' % (path,f+1),1)\n",
    "    mocap = cv2.imread('%smocap/mocap%03d.png' % (path,f+1),1)\n",
    "    latent = cv2.imread('%slatent/latent%03d.png' % (path,f+1),1)\n",
    "\n",
    "    rawOut = cv2.resize(raw,(width,height),interpolation=cv2.INTER_CUBIC)\n",
    "    cloudOut = cv2.resize(cloud,(width,height),interpolation=cv2.INTER_CUBIC)\n",
    "    mocapOut = cv2.resize(mocap,(width,height),interpolation=cv2.INTER_CUBIC)\n",
    "    latentOut = cv2.resize(latent,(width,height),interpolation=cv2.INTER_CUBIC)\n",
    "\n",
    "    out = np.zeros((2*width,2*height,3), np.uint8)\n",
    "    out[:height,:width,:] = rawOut\n",
    "    out[:height,width:,:] = cloudOut\n",
    "    out[height:,:width,:] = mocapOut\n",
    "    out[height:,width:,:] = latentOut\n",
    "    out = cv2.resize(out,(1000,800),interpolation=cv2.INTER_CUBIC)\n",
    "    writer.write(out)\n",
    "    \n",
    "    if f == 50:\n",
    "        cv2.imwrite('Result/Features.png',out)\n",
    "writer.release()"
   ]
  },
  {
   "cell_type": "markdown",
   "metadata": {
    "collapsed": true
   },
   "source": [
    "## Variation in Features\n",
    "---"
   ]
  },
  {
   "cell_type": "code",
   "execution_count": 4,
   "metadata": {
    "collapsed": false
   },
   "outputs": [],
   "source": [
    "# file path\n",
    "width = 500\n",
    "height = 400\n",
    "nFrames = 200\n",
    "path = '../Results/Exp8/Videos/'"
   ]
  },
  {
   "cell_type": "code",
   "execution_count": 12,
   "metadata": {
    "collapsed": false
   },
   "outputs": [],
   "source": [
    "def createVideo(frames, captures, strings, writer, textPos=(70,55,70,385), window=(25,75,50,450,350,400)):\n",
    "    data = []\n",
    "    for frame,capture,string in zip(frames,captures,strings):\n",
    "        tr = 0\n",
    "        fr = 0               \n",
    "        print string\n",
    "        dat = np.zeros((nFrames,height,width,3))   \n",
    "        while(capture.isOpened()):\n",
    "            ret, img = capture.read()\n",
    "            if np.any(frame == tr):\n",
    "                output = cv2.resize(img,(width,height))\n",
    "                \n",
    "                if string != '':\n",
    "                    output[window[0]:window[1],window[2]:window[3],:] = 255\n",
    "                    cv2.putText(output,string, (textPos[0],textPos[1]), cv2.FONT_HERSHEY_DUPLEX, 1, (0,0,0))\n",
    "                    output[window[4]:window[5],window[2]:window[3],:] = 255\n",
    "                    cv2.putText(output,string, (textPos[2],textPos[3]), cv2.FONT_HERSHEY_DUPLEX, 1, (0,0,0))\n",
    "                    \n",
    "                dat[fr,:,:,:] = output\n",
    "                fr += 1\n",
    "            tr += 1\n",
    "        \n",
    "            if ret == False:\n",
    "                break\n",
    "    \n",
    "        capture.release()\n",
    "        data.append(dat)\n",
    "        print 'Done!'\n",
    "    \n",
    "    # save data to video file\n",
    "    for f in range(nFrames):\n",
    "        out = np.zeros((2*height,2*width,3), np.uint8)\n",
    "        out[:height,:width,:] = data[0][f,:,:,:]\n",
    "        out[height:,:width:,:] = data[1][f,:,:,:]\n",
    "        out[:height,width:,:] = data[2][f,:,:,:]\n",
    "        out[height:,width:,:] = data[3][f,:,:,:]\n",
    "        writer.write(out)\n",
    "    writer.release()"
   ]
  },
  {
   "cell_type": "code",
   "execution_count": 24,
   "metadata": {
    "collapsed": false
   },
   "outputs": [
    {
     "name": "stdout",
     "output_type": "stream",
     "text": [
      "Head:30, Shoulder:100\n",
      "Done!\n",
      "\n",
      "Done!\n",
      "Head:45, Shoulder:110\n",
      "Done!\n",
      "\n",
      "Done!\n"
     ]
    }
   ],
   "source": [
    "tracks = []\n",
    "frames = []\n",
    "captures = []\n",
    "shrNum = [2]\n",
    "posTrs = [3,4]\n",
    "strings = ['Posture 1: Head:30,Shoulder:100', '', 'Posture 2: Head:45,Shoulder:110', '']\n",
    "\n",
    "for sNum in shrNum:\n",
    "    writer = cv2.VideoWriter('Results/Posture%d.avi'%(sNum),cv.FOURCC('D','I','V','X'),10.0,(2*width,2*height))\n",
    "\n",
    "    for pTr in posTrs:\n",
    "        tracks.append(np.loadtxt('%sK1S%dP%dT1'%(path,sNum,pTr), delimiter=',', skiprows=1))\n",
    "    \n",
    "        nSamples = tracks[-1].shape[0]\n",
    "        frames.append(np.linspace(0, nSamples-1, num=nFrames, dtype=np.int32))\n",
    "        frames.append(np.linspace(0, nSamples-1, num=nFrames, dtype=np.int32))\n",
    "        captures.append(cv2.VideoCapture('%sK1S%dP%dT1.avi'%(path,sNum,pTr)))\n",
    "        captures.append(cv2.VideoCapture('%sK1S%dP%dT1Cloud.mp4'%(path,sNum,pTr)))\n",
    "    \n",
    "    createVideo(frames,captures,strings,writer,textPos=(65,25),window=(0,40,50,450))"
   ]
  },
  {
   "cell_type": "code",
   "execution_count": 17,
   "metadata": {
    "collapsed": false
   },
   "outputs": [
    {
     "name": "stdout",
     "output_type": "stream",
     "text": [
      "Polyster,V-neck\n",
      "Done!\n",
      "Polyster,O-neck\n",
      "Done!\n",
      "Cotton, V-neck\n",
      "Done!\n",
      "Cotton, O-neck\n",
      "Done!\n"
     ]
    }
   ],
   "source": [
    "tracks = []\n",
    "frames = []\n",
    "captures = []\n",
    "shrTrs = [1,2,3,4]\n",
    "posTrs = [2,1,3,4]\n",
    "strings = ['Polyster,V-neck', 'Polyster,O-neck', 'Cotton, V-neck', 'Cotton, O-neck']\n",
    "writer = cv2.VideoWriter('Results/Shirt.avi',cv.FOURCC('D','I','V','X'),10.0,(2*width,2*height))\n",
    "\n",
    "for sTr,pTr in zip(shrTrs, posTrs):\n",
    "    tracks.append(np.loadtxt('%sK1S%dP%dT1'%(path,sTr,pTr), delimiter=',', skiprows=1))\n",
    "    \n",
    "    nSamples = tracks[-1].shape[0]\n",
    "    frames.append(np.linspace(0, nSamples-1, num=nFrames, dtype=np.int32))    \n",
    "    captures.append(cv2.VideoCapture('%sK1S%dP%dT1.avi'%(path,sTr,pTr)))\n",
    "    \n",
    "createVideo(frames,captures,strings,writer,textPos=(105,25),window=(0,40,90,410))"
   ]
  },
  {
   "cell_type": "code",
   "execution_count": 18,
   "metadata": {
    "collapsed": false
   },
   "outputs": [
    {
     "name": "stdout",
     "output_type": "stream",
     "text": [
      "Polyester, V-neck\n",
      "Done!\n",
      "Polyster, O-neck\n",
      "Done!\n",
      "Cotton, O-neck\n",
      "Done!\n",
      "Cotton, O-neck\n",
      "Done!\n"
     ]
    }
   ],
   "source": [
    "tracks = []\n",
    "frames = []\n",
    "captures = []\n",
    "shrTrs = [1,2,3,4]\n",
    "posTrs = [2,1,3,4]\n",
    "strings = ['Polyester, V-neck', 'Polyster, O-neck', 'Cotton, O-neck', 'Cotton, O-neck']\n",
    "writer = cv2.VideoWriter('Results/ShirtCloud.avi',cv.FOURCC('D','I','V','X'),10.0,(2*width,2*height))\n",
    "\n",
    "for sTr,pTr in zip(shrTrs, posTrs):\n",
    "    tracks.append(np.loadtxt('%sK1S%dP%dT1'%(path,sTr,pTr), delimiter=',', skiprows=1))\n",
    "    \n",
    "    nSamples = tracks[-1].shape[0]\n",
    "    frames.append(np.linspace(0, nSamples-1, num=nFrames, dtype=np.int32))    \n",
    "    captures.append(cv2.VideoCapture('%sK1S%dP%dT1Cloud.mp4'%(path,sTr,pTr)))\n",
    "    \n",
    "createVideo(frames,captures,strings,writer,textPos=(105,25),window=(0,40,90,410))"
   ]
  },
  {
   "cell_type": "code",
   "execution_count": 19,
   "metadata": {
    "collapsed": false
   },
   "outputs": [
    {
     "name": "stdout",
     "output_type": "stream",
     "text": [
      "Head:30, Shoulder:100\n",
      "Done!\n",
      "Head:30, Shoulder:100\n",
      "Done!\n",
      "Head:45, Shoulder:110\n",
      "Done!\n",
      "Head:45, Shoulder:110\n",
      "Done!\n"
     ]
    }
   ],
   "source": [
    "shrNum = 2\n",
    "tracks = []\n",
    "frames = []\n",
    "captures = []\n",
    "posTrs = [3,5]\n",
    "strings = ['Head:30, Shoulder:100', 'Head:30, Shoulder:100',\n",
    "           'Head:45, Shoulder:110', 'Head:45, Shoulder:110']\n",
    "writer = cv2.VideoWriter('Results/BaxterPos.avi',cv.FOURCC('D','I','V','X'),10.0,(2*width,2*height))\n",
    "\n",
    "for pTr in posTrs:\n",
    "    tracks.append(np.loadtxt('%sK1S%dP%dT1Bax'%(path,shrNum,pTr), delimiter=',', skiprows=1))\n",
    "    \n",
    "    nSamples = tracks[-1].shape[0]\n",
    "    frames.append(np.linspace(0, nSamples-1, num=nFrames, dtype=np.int32))\n",
    "    frames.append(np.linspace(0, nSamples-1, num=nFrames, dtype=np.int32))\n",
    "    captures.append(cv2.VideoCapture('%sK1S%dP%dT1Bax.avi'%(path,shrNum,pTr)))\n",
    "    captures.append(cv2.VideoCapture('%sK1S%dP%dT1BaxCloud.mp4'%(path,shrNum,pTr)))\n",
    "    \n",
    "createVideo(frames,captures,strings,writer,textPos=(105,25),window=(0,40,90,410))"
   ]
  },
  {
   "cell_type": "code",
   "execution_count": null,
   "metadata": {
    "collapsed": true
   },
   "outputs": [],
   "source": []
  }
 ],
 "metadata": {
  "kernelspec": {
   "display_name": "Python 2",
   "language": "python",
   "name": "python2"
  },
  "language_info": {
   "codemirror_mode": {
    "name": "ipython",
    "version": 2
   },
   "file_extension": ".py",
   "mimetype": "text/x-python",
   "name": "python",
   "nbconvert_exporter": "python",
   "pygments_lexer": "ipython2",
   "version": "2.7.6"
  },
  "widgets": {
   "state": {},
   "version": "1.1.2"
  }
 },
 "nbformat": 4,
 "nbformat_minor": 0
}
