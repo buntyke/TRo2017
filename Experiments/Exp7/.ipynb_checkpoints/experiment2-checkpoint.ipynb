{
 "cells": [
  {
   "cell_type": "markdown",
   "metadata": {},
   "source": [
    "# Experiment 7: TRo Journal\n",
    "---\n",
    "\n",
    "In this experiment, the generalization of cloth models to unseen T-shirts of the mannequin is verified. The evaluation is performed using RMSE, NRMSE, Pearson correlation as the parameters. In this notebook, the test inference is performed for pre-trained cloth models."
   ]
  },
  {
   "cell_type": "code",
   "execution_count": null,
   "metadata": {
    "collapsed": false
   },
   "outputs": [],
   "source": [
    "# import the modules\n",
    "import sys\n",
    "import GPy\n",
    "import csv\n",
    "import numpy as np\n",
    "import cPickle as pickle\n",
    "import scipy.stats as stats\n",
    "import sklearn.metrics as metrics\n",
    "from matplotlib import pyplot as plt\n",
    "\n",
    "%matplotlib notebook"
   ]
  },
  {
   "cell_type": "markdown",
   "metadata": {},
   "source": [
    "## Plotting and Analysis Functions\n",
    "---"
   ]
  },
  {
   "cell_type": "code",
   "execution_count": null,
   "metadata": {
    "collapsed": false
   },
   "outputs": [],
   "source": [
    "# function to compute reconstruction error\n",
    "def reconstructionError(model, valData, testData, mKey, kKey, optimizeFlag=False):    \n",
    "    nSamplesVal = valData[mKey].shape[0]\n",
    "    nSamplesTest = testData[mKey].shape[0]\n",
    "    \n",
    "    nDimIn = valData[kKey].shape[1]\n",
    "    nDimOut = valData[mKey].shape[1]\n",
    "    \n",
    "    qDim = model.X.mean.shape[1]\n",
    "    \n",
    "    # computing reconstruction error for test1, test2 with variances\n",
    "    predictVal = np.zeros((nSamplesVal,nDimOut))\n",
    "    predictTest = np.zeros((nSamplesTest,nDimOut))\n",
    "\n",
    "    for n in range(nSamplesVal):\n",
    "        yIn = valData[kKey][n,:]\n",
    "        yTrueOut = valData[mKey][n,:]\n",
    "    \n",
    "        [xPredict, infX] = model.Y0.infer_newX(yIn[None,:], optimize=False)\n",
    "        yOut = model.predict(xPredict.mean, Yindex=1)    \n",
    "        sys.stdout.write('.')\n",
    "        \n",
    "        predictVal[n,:] = yOut[0]\n",
    "    sys.stdout.write('\\n')\n",
    "        \n",
    "    for n in range(nSamplesTest):\n",
    "        yIn = testData[kKey][n,:]\n",
    "        yTrueOut = testData[mKey][n,:]\n",
    "    \n",
    "        [xPredict, infX] = model.Y0.infer_newX(yIn[None,:], optimize=optimizeFlag)\n",
    "        yOut = model.predict(xPredict.mean, Yindex=1)    \n",
    "        sys.stdout.write('.')\n",
    "        \n",
    "        predictTest[n,:] = yOut[0]\n",
    "    sys.stdout.write('\\n')\n",
    "    results = {}\n",
    "    valResults = {}\n",
    "    testResults = {}\n",
    "    \n",
    "    valResults['pred'] = predictVal\n",
    "    testResults['pred'] = predictTest\n",
    "    \n",
    "    valErrors = np.sqrt(metrics.mean_squared_error(valData[mKey],predictVal,multioutput='raw_values'))\n",
    "    testErrors = np.sqrt(metrics.mean_squared_error(testData[mKey],predictTest,multioutput='raw_values'))\n",
    "\n",
    "    valNormErrors = np.divide(np.sqrt(metrics.mean_squared_error(valData[mKey],predictVal,multioutput='raw_values')), \n",
    "                              valData[mKey].max(axis=0) - valData[mKey].min(axis=0))\n",
    "    testNormErrors = np.divide(np.sqrt(metrics.mean_squared_error(testData[mKey],predictTest,multioutput='raw_values')), \n",
    "                               testData[mKey].max(axis=0) - testData[mKey].min(axis=0))\n",
    "\n",
    "    valCorr = np.zeros((1,nDimOut))\n",
    "    testCorr = np.zeros((1,nDimOut))\n",
    "    for d in range(dims[1]):\n",
    "        valCorr[0,d],_ = stats.pearsonr(valData[mKey][:,d],predictVal[:,d])\n",
    "        testCorr[0,d],_ = stats.pearsonr(testData[mKey][:,d],predictTest[:,d])\n",
    "\n",
    "    valResults['rmse'] = valErrors\n",
    "    testResults['rmse'] = testErrors\n",
    "    \n",
    "    valResults['nrmse'] = valNormErrors\n",
    "    testResults['nrmse'] = testNormErrors\n",
    "    \n",
    "    valResults['corr'] = valCorr\n",
    "    testResults['corr'] = testCorr\n",
    "        \n",
    "    results['train'] = valResults\n",
    "    results['test'] = testResults\n",
    "    return results"
   ]
  },
  {
   "cell_type": "markdown",
   "metadata": {},
   "source": [
    "## Data Loading\n",
    "---"
   ]
  },
  {
   "cell_type": "code",
   "execution_count": null,
   "metadata": {
    "collapsed": false
   },
   "outputs": [],
   "source": [
    "# load all the files and create Data\n",
    "nShr = 4\n",
    "nPos = 6\n",
    "names = []\n",
    "for sInd in range(nShr):\n",
    "    for pInd in range(nPos):\n",
    "        names.append('K1S%dP%dT1' % (sInd+1,pInd+1))\n",
    "\n",
    "Data = pickle.load(open('../Data/Data.p','rb'))"
   ]
  },
  {
   "cell_type": "code",
   "execution_count": null,
   "metadata": {
    "collapsed": false,
    "scrolled": false
   },
   "outputs": [],
   "source": [
    "# loop over the kinect keys\n",
    "kinectExt = 'C'\n",
    "kinectDim = 7500\n",
    "kinectKey = 'Cloud'\n",
    "\n",
    "mocapDim = 8\n",
    "mocapExt = 'T'\n",
    "mocapKey = 'TopCoord'\n",
    "    \n",
    "nTrials = 6\n",
    "keys = [kinectKey,mocapKey]\n",
    "expName = '%s%s' % (kinectExt,mocapExt)\n",
    "\n",
    "ValInd = [[6,7,14,15,22,23],[12,13,20,21,4,5],[18,19,2,3,10,11],[0,1,8,9,16,17]]\n",
    "TestInd = [[0,1,2,3,4,5],[6,7,8,9,10,11],[12,13,14,15,16,17],[18,19,20,21,22,23]]\n",
    "\n",
    "for sInd in nShr:\n",
    "    results = {}\n",
    "    valData = {}\n",
    "    testData = {}\n",
    "\n",
    "    # load the trained MRD model\n",
    "    mrdModel = pickle.load(open('../Models/Exp7/%s%d.p' % (expName,sInd+1),'rb'))\n",
    "        \n",
    "    for pInd,valInd,testInd in zip(range(nTrials),ValInd[sInd],TestInd[sInd]):\n",
    "        print 'Cycle:%d,%d' % (sInd+1,pInd+1)\n",
    "        print valInd, testInd\n",
    "        \n",
    "        for key in keys:\n",
    "            valData[key] = Data[names[valInd]][key]\n",
    "            testData[key] = Data[names[testInd]][key]\n",
    "            \n",
    "        # apply inference to test and val data\n",
    "        results = reconstructionError(mrdModel,valData,testData,mocapKey,kinectKey,optimizeFlag=True)\n",
    "        \n",
    "        # save results to file\n",
    "        pickle.dump(results,open('../Results/Exp7/Res%d%d.p' % (expName,sInd+1,pInd+1),'wb'))"
   ]
  },
  {
   "cell_type": "code",
   "execution_count": null,
   "metadata": {
    "collapsed": false
   },
   "outputs": [],
   "source": [
    "# loop over the kinect keys\n",
    "kinectExt = 'C'\n",
    "kinectDim = 7500\n",
    "kinectKey = 'Cloud'\n",
    "\n",
    "mocapDim = 8\n",
    "mocapExt = 'T'\n",
    "mocapKey = 'TopCoord'\n",
    "    \n",
    "nTrials = 6\n",
    "keys = [kinectKey,mocapKey]\n",
    "\n",
    "ValInd = [[6,7,14,15,22,23],[12,13,20,21,4,5],[18,19,2,3,10,11],[0,1,8,9,16,17]]\n",
    "TestInd = [[0,1,2,3,4,5],[6,7,8,9,10,11],[12,13,14,15,16,17],[18,19,20,21,22,23]]\n",
    "\n",
    "for sInd in range(nShr):\n",
    "    valData = {}\n",
    "    testData = {}\n",
    "\n",
    "    for pInd,valInd,testInd in zip(range(nTrials),ValInd[sInd],TestInd[sInd]):\n",
    "        for key in keys:\n",
    "            valData[key] = Data[names[valInd]][key]\n",
    "            testData[key] = Data[names[testInd]][key]\n",
    "            \n",
    "        results = pickle.load(open('../Results/Exp7/Res%d%d.p' % (sInd+1,pInd+1),'rb'))\n",
    "        \n",
    "        newResults = {'train':{}, 'test':{}}\n",
    "        newResults['train']['corr'] = results['val']['corr']\n",
    "        newResults['train']['pred'] = results['val']['pred']\n",
    "        newResults['train']['nrmse'] = results['val']['err']\n",
    "        newResults['train']['rmse'] = np.sqrt(metrics.mean_squared_error(valData['TopCoord'],results['val']['pred'],multioutput='raw_values'))\n",
    "        \n",
    "        newResults['test']['corr'] = results['test']['corr']\n",
    "        newResults['test']['pred'] = results['test']['pred']\n",
    "        newResults['test']['nrmse'] = results['test']['err']\n",
    "        newResults['test']['rmse'] = np.sqrt(metrics.mean_squared_error(testData['TopCoord'],results['test']['pred'],multioutput='raw_values'))\n",
    "        pickle.dump(newResults, open('../Results/Exp7/Res%d%d.p' % (sInd+1,pInd+1), 'wb'))"
   ]
  }
 ],
 "metadata": {
  "kernelspec": {
   "display_name": "Python 2",
   "language": "python",
   "name": "python2"
  },
  "language_info": {
   "codemirror_mode": {
    "name": "ipython",
    "version": 2
   },
   "file_extension": ".py",
   "mimetype": "text/x-python",
   "name": "python",
   "nbconvert_exporter": "python",
   "pygments_lexer": "ipython2",
   "version": "2.7.6"
  },
  "widgets": {
   "state": {},
   "version": "1.1.2"
  }
 },
 "nbformat": 4,
 "nbformat_minor": 0
}
