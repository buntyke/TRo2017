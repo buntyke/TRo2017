{
 "cells": [
  {
   "cell_type": "markdown",
   "metadata": {},
   "source": [
    "# Experiment 7: TRo Journal\n",
    "---\n",
    "\n",
    "In this experiment, the generalization of cloth models to unseen T-shirts of the mannequin is verified. The evaluation is performed using RMSE, NRMSE, Pearson correlation as the parameters. In this notebook, the metrics are evaluated and plotted."
   ]
  },
  {
   "cell_type": "code",
   "execution_count": null,
   "metadata": {
    "collapsed": true
   },
   "outputs": [],
   "source": [
    "# import the modules\n",
    "import GPy\n",
    "import csv\n",
    "import numpy as np\n",
    "import cPickle as pickle\n",
    "import scipy.stats as stats\n",
    "import sklearn.metrics as metrics\n",
    "import GPy.plotting.Tango as Tango\n",
    "from matplotlib import pyplot as plt\n",
    "\n",
    "%matplotlib notebook"
   ]
  },
  {
   "cell_type": "markdown",
   "metadata": {},
   "source": [
    "# Data Loading\n",
    "---"
   ]
  },
  {
   "cell_type": "code",
   "execution_count": null,
   "metadata": {},
   "outputs": [],
   "source": [
    "kinectExt = 'C'\n",
    "kinectDim = 7500\n",
    "kinectKey = 'Cloud'\n",
    "\n",
    "mocapDim = 8\n",
    "mocapExt = 'T'\n",
    "mocapKey = 'TopCoord'\n",
    "\n",
    "dataTypes = ['train','test']\n",
    "parameters = ['rmse','nrmse','corr']"
   ]
  },
  {
   "cell_type": "code",
   "execution_count": null,
   "metadata": {
    "scrolled": true
   },
   "outputs": [],
   "source": [
    "nShr = 4\n",
    "nPos = 6\n",
    "nTypes = 2\n",
    "nParam = 3\n",
    "dims = [kinectDim,mocapDim]\n",
    "keys = [kinectKey,mocapKey]\n",
    "metricRes = np.zeros((nTypes,nParam,nShr,nPos))\n",
    "\n",
    "for dT,dataType in enumerate(dataTypes):            \n",
    "    for sInd in range(nShr):\n",
    "        for pInd in range(nPos):\n",
    "            res = pickle.load(open('../Results/Exp7/Res%d%d.p' % (sInd+1,pInd+1),'rb'))\n",
    "\n",
    "            for p,parameter in zip(range(len(parameters)),parameters):\n",
    "                metricRes[dT,p,sInd,pInd] = res[dataType][parameter].mean()\n",
    "\n",
    "pickle.dump(metricRes,open('Result/metricResults.p','wb'))"
   ]
  },
  {
   "cell_type": "markdown",
   "metadata": {},
   "source": [
    "# Plotting\n",
    "---"
   ]
  },
  {
   "cell_type": "code",
   "execution_count": null,
   "metadata": {},
   "outputs": [],
   "source": [
    "def plotScales(train, test, options):\n",
    "    fSize = 20\n",
    "    fig = plt.figure()\n",
    "    ax = fig.add_subplot(111)\n",
    "    \n",
    "    x1 = np.arange(0.85,train.shape[0]+0.85)\n",
    "    x2 = np.arange(1.15,train.shape[0]+1.15)\n",
    "    c1 = Tango.colorsHex['mediumBlue']\n",
    "    c2 = Tango.colorsHex['mediumRed']\n",
    "    p1 = ax.bar(x1, height=train, width=0.25, align='center', color=c1, edgecolor='k', linewidth=1.2)\n",
    "    p2 = ax.bar(x2, height=test, width=0.25, align='center', color=c2, edgecolor='k', linewidth=1.2)\n",
    "    ax.plot([0.5, train.shape[0]+0.5], [train.mean(), train.mean()], '--', linewidth=3, color=Tango.colorsHex['mediumBlue'])\n",
    "    ax.plot([0.5, train.shape[0]+0.5], [test.mean(), test.mean()], '--', linewidth=3, color=Tango.colorsHex['mediumRed'])\n",
    "    \n",
    "    # setting the bar plot parameters\n",
    "    ax.set_ylim(options['ylimits'])\n",
    "    ax.set_xlim(0.5, train.shape[0]+0.5)\n",
    "    ax.tick_params(axis='both', labelsize=fSize)\n",
    "    ax.set_xticks(xrange(1, train.shape[0]+1))\n",
    "    ax.set_title(options['title'], fontsize=fSize)\n",
    "    ax.set_ylabel(options['ylabel'], fontsize=fSize)\n",
    "    ax.set_xlabel(options['xlabel'], fontsize=fSize)\n",
    "    ax.legend([p1,p2], options['legend'], fontsize=fSize-5, loc=2)\n",
    "    plt.tight_layout()\n",
    "    \n",
    "    return ax"
   ]
  },
  {
   "cell_type": "code",
   "execution_count": null,
   "metadata": {
    "collapsed": true
   },
   "outputs": [],
   "source": [
    "def plotScales1(test, options, a=0, n=6):\n",
    "    fSize = 20\n",
    "    fig = plt.figure()\n",
    "    ax = fig.add_subplot(111)\n",
    "    \n",
    "    x = np.arange(1,n+1)\n",
    "    c = Tango.colorsHex['mediumRed']\n",
    "    ax.bar(x, height=test.mean(axis=a), width=0.4, align='center', color=c, edgecolor='k', linewidth=1.2)\n",
    "    \n",
    "    # setting the bar plot parameters\n",
    "    ax.set_xlim(0.0, n+1.0)\n",
    "    ax.set_ylim(options['ylimits'])\n",
    "    ax.tick_params(axis='both', labelsize=fSize)\n",
    "    ax.set_xticks(xrange(1, n+1))\n",
    "    ax.set_title(options['title'], fontsize=fSize)\n",
    "    ax.set_ylabel(options['ylabel'], fontsize=fSize)\n",
    "    ax.set_xlabel(options['xlabel'], fontsize=fSize)\n",
    "    #ax.legend(options['legend'], fontsize=20, loc=2)\n",
    "    plt.tight_layout()\n",
    "    return ax"
   ]
  },
  {
   "cell_type": "code",
   "execution_count": null,
   "metadata": {
    "scrolled": false
   },
   "outputs": [],
   "source": [
    "options = {'title':'','ylabel':'RMSE','xlabel':'T-shirt Index', \n",
    "           'legend':['Seen T-shirt','Unseen T-shirt'], 'ylimits':[0.3,0.76]}\n",
    "plotScales(metricRes[0,0,:,:].mean(axis=1), metricRes[1,0,:,:].mean(axis=1), options)\n",
    "plt.savefig('Result/shirtRMSE.pdf', format='pdf')"
   ]
  },
  {
   "cell_type": "code",
   "execution_count": null,
   "metadata": {},
   "outputs": [],
   "source": [
    "options = {'title':'','ylabel':'NRMSE','xlabel':'T-shirt Index', \n",
    "           'legend':['Seen T-shirt','Unseen T-shirt'], 'ylimits':[0.0,0.28]}\n",
    "plotScales(metricRes[0,1,:,:].mean(axis=1), metricRes[1,1,:,:].mean(axis=1), options)\n",
    "plt.savefig('Result/shirtNRMSE.pdf', format='pdf')"
   ]
  },
  {
   "cell_type": "code",
   "execution_count": null,
   "metadata": {},
   "outputs": [],
   "source": [
    "options = {'title':'','ylabel':'NRMSE','xlabel':'T-shirt Index', \n",
    "           'legend':['Seen T-shirt','Unseen T-shirt'], 'ylimits':[0.8,1.03]}\n",
    "plotScales(metricRes[0,2,:,:].mean(axis=1), metricRes[1,2,:,:].mean(axis=1), options)\n",
    "plt.savefig('Result/shirtCorr.pdf', format='pdf')"
   ]
  }
 ],
 "metadata": {
  "kernelspec": {
   "display_name": "Python 2",
   "language": "python",
   "name": "python2"
  },
  "language_info": {
   "codemirror_mode": {
    "name": "ipython",
    "version": 2
   },
   "file_extension": ".py",
   "mimetype": "text/x-python",
   "name": "python",
   "nbconvert_exporter": "python",
   "pygments_lexer": "ipython2",
   "version": "2.7.6"
  },
  "widgets": {
   "state": {},
   "version": "1.1.2"
  }
 },
 "nbformat": 4,
 "nbformat_minor": 1
}
