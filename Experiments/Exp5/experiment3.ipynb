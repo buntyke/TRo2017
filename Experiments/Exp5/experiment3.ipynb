{
 "cells": [
  {
   "cell_type": "markdown",
   "metadata": {},
   "source": [
    "# Experiment 5: TRo Journal\n",
    "---\n",
    "\n",
    "Compare the predictive performance of using MRD with various feature representations for the feature space and the observation space.\n",
    "\n",
    "In this Ipython notebook, the predictive performance of 3 different feature representations of each observation space are evaluated. The metrics for evaluation are RMS error, normalized RMS error and pearson correlation."
   ]
  },
  {
   "cell_type": "code",
   "execution_count": null,
   "metadata": {
    "collapsed": true
   },
   "outputs": [],
   "source": [
    "# import the modules\n",
    "import GPy\n",
    "import csv\n",
    "import numpy as np\n",
    "import pandas as pd\n",
    "import seaborn as sns\n",
    "import cPickle as pickle\n",
    "import scipy.stats as stats\n",
    "import sklearn.metrics as metrics\n",
    "from matplotlib import pyplot as plt\n",
    "\n",
    "%matplotlib notebook"
   ]
  },
  {
   "cell_type": "code",
   "execution_count": null,
   "metadata": {
    "collapsed": true
   },
   "outputs": [],
   "source": [
    "# sns properties\n",
    "sns.set_style(\"white\")\n",
    "sns.set_context(\"paper\", font_scale=2.5, rc={\"lines.linewidth\": 2.0})"
   ]
  },
  {
   "cell_type": "markdown",
   "metadata": {},
   "source": [
    "# Data Loading\n",
    "---"
   ]
  },
  {
   "cell_type": "code",
   "execution_count": null,
   "metadata": {
    "collapsed": false
   },
   "outputs": [],
   "source": [
    "kinectExts = ['E','CO','C']\n",
    "kinectDims = [640,2500,7500]\n",
    "kinectKeys = ['ESF','Color','Cloud']\n",
    "\n",
    "mocapDims = [21,36,8]\n",
    "mocapExts = ['CP','M','T']\n",
    "mocapKeys = ['CircleParam','Marker','TopCoord']\n",
    "\n",
    "spaces = ['Kinect','Mocap']\n",
    "dataTypes = ['train','test']\n",
    "parameters = ['rmse','nrmse','corr']"
   ]
  },
  {
   "cell_type": "code",
   "execution_count": null,
   "metadata": {
    "collapsed": false
   },
   "outputs": [],
   "source": [
    "nFeat = 3\n",
    "nTypes = 2\n",
    "nParam = 3\n",
    "nSpaces = 2\n",
    "nTrials = 6\n",
    "metricRes = np.zeros((nSpaces,nTypes,nFeat,nParam,nTrials))\n",
    "\n",
    "spaceInd = 0\n",
    "mocapExt = 'T'\n",
    "for dT,dataType in enumerate(dataTypes):\n",
    "    for kE,kinectExt in enumerate(kinectExts):\n",
    "        for nT in range(nTrials):\n",
    "            res = pickle.load(open('../Results/Exp5/%s%sRes%d.p' % (kinectExt,mocapExt,nT+1),'rb'))\n",
    "            \n",
    "            for p,parameter in zip(range(nParam),parameters):\n",
    "                metricRes[spaceInd,dT,kE,p,nT] = res[dataType][parameter].mean()\n",
    "                \n",
    "spaceInd = 1\n",
    "kinectExt = 'C'\n",
    "for dT,dataType in enumerate(dataTypes):\n",
    "    for mE,mocapExt in enumerate(mocapExts):\n",
    "        for nT in range(nTrials):\n",
    "            res = pickle.load(open('../Results/Exp5/%s%sRes%d.p' % (kinectExt,mocapExt,nT+1),'rb'))\n",
    "            \n",
    "            for p,parameter in zip(range(nParam),parameters):\n",
    "                metricRes[spaceInd,dT,mE,p,nT] = res[dataType][parameter].mean()\n",
    "\n",
    "pickle.dump(metricRes,open('Result/metricResults.p','wb'))"
   ]
  },
  {
   "cell_type": "code",
   "execution_count": null,
   "metadata": {
    "collapsed": true
   },
   "outputs": [],
   "source": [
    "W = {}\n",
    "W[6] = {'max1':21, 'min1':0, 'p1':0.025, 'max2':19, 'min2':2, 'p2':0.05}\n",
    "\n",
    "# function to compute wilcoxon metric for one-sided x > y, greater than test\n",
    "def wilcoxon(x,y):\n",
    "    # convert to numpy arrays\n",
    "    x,y = map(np.asarray, (x,y))\n",
    "    \n",
    "    # compute differences\n",
    "    d = x - y\n",
    "    \n",
    "    # remove zero differences\n",
    "    d = np.compress(np.not_equal(d, 0), d, axis=-1)\n",
    "    \n",
    "    # compute rank of differences\n",
    "    r = stats.rankdata(abs(d))\n",
    "    \n",
    "    # compute sum of ranked differences\n",
    "    T = np.sum((d > 0)*r, axis=0)\n",
    "    \n",
    "    # significant or not significant\n",
    "    n = d.shape[0]\n",
    "    \n",
    "    # assign significance\n",
    "    if (T >= W[n]['max1'] or T <= W[n]['min1']):\n",
    "        result = W[n]['p1']\n",
    "    elif (T >= W[n]['max2'] or T <= W[n]['min2']):\n",
    "        result = W[n]['p2']\n",
    "    else:\n",
    "        result = None\n",
    "        \n",
    "    # return statistic and result\n",
    "    return T, result"
   ]
  },
  {
   "cell_type": "code",
   "execution_count": null,
   "metadata": {
    "collapsed": false
   },
   "outputs": [],
   "source": [
    "# variables for analysis\n",
    "kinectExts = ['E','CO','C']\n",
    "kinectDims = [640,2500,7500]\n",
    "kinectKeys = ['ESF','Color','Cloud']\n",
    "\n",
    "mocapDims = [21,36,8]\n",
    "mocapExts = ['CP','M','T']\n",
    "mocapKeys = ['CircleParam','Marker','TopCoord']\n",
    "\n",
    "spaces = ['Kinect','Mocap']\n",
    "dataTypes = ['train','test']\n",
    "parameters = ['rmse','nrmse','corr']\n",
    "\n",
    "statRes = {'Kinect':{},'Mocap':{}}\n",
    "pairs = {'Kinect':{'ECO':[0,1],'EC':[0,2],'COC':[1,2]},\n",
    "         'Mocap':{'CPM':[0,1],'CPT':[0,2],'MT':[1,2]}}\n",
    "\n",
    "for sI,space in enumerate(spaces):\n",
    "    for dT,dataType in enumerate(dataTypes):\n",
    "        statRes[space][dataType] = {}\n",
    "        for key in pairs[space].keys():\n",
    "            indices = pairs[space][key]\n",
    "            statRes[space][dataType][key] = {}\n",
    "            for p,parameter in enumerate(parameters):\n",
    "                tVal, pval = wilcoxon(metricRes[sI,dT,indices[0],p,:], metricRes[sI,dT,indices[1],p,:])\n",
    "                statRes[space][dataType][key][parameter] = pval       \n",
    "            print dataType,key,': ',statRes[space][dataType][key]\n",
    "    \n",
    "pickle.dump(statRes,open('Result/statResults.p','wb'))"
   ]
  },
  {
   "cell_type": "markdown",
   "metadata": {},
   "source": [
    "# Plotting\n",
    "---"
   ]
  },
  {
   "cell_type": "code",
   "execution_count": null,
   "metadata": {
    "collapsed": false
   },
   "outputs": [],
   "source": [
    "nTr = 6\n",
    "spaces = ['Kinect','Mocap']\n",
    "dataTypes = ['Train','Test']\n",
    "parameters = ['rmse','nrmse','corr']\n",
    "kinectKeys = ['ESF','Color','Cloud']\n",
    "mocapKeys = ['Circle','Marker','TopCoord']\n",
    "columns = ['Value','Space','Type','Feature','Param']\n",
    "\n",
    "dataFrame = pd.DataFrame(columns=columns)\n",
    "for s,space in enumerate(spaces):\n",
    "    for d,dataType in enumerate(dataTypes):\n",
    "        if space == 'Kinect':\n",
    "            features = kinectKeys\n",
    "        else:\n",
    "            features = mocapKeys\n",
    "        for f,feature in enumerate(features):\n",
    "            for p,parameter in enumerate(parameters):\n",
    "                dat = np.atleast_2d(metricRes[s,d,f,p,:])\n",
    "                dat = np.concatenate((dat,np.atleast_2d([space]*nTr)),axis=0)\n",
    "                dat = np.concatenate((dat,np.atleast_2d([dataType]*nTr)),axis=0)\n",
    "                dat = np.concatenate((dat,np.atleast_2d([feature]*nTr)),axis=0)\n",
    "                dat = np.concatenate((dat,np.atleast_2d([parameter]*nTr)),axis=0)\n",
    "                dF = pd.DataFrame(dat.transpose(),columns=columns)\n",
    "                dataFrame = dataFrame.append(dF)\n",
    "\n",
    "dataFrame.index = range(dataFrame.shape[0])\n",
    "dataFrame['Value'] = dataFrame['Value'].apply(pd.to_numeric)"
   ]
  },
  {
   "cell_type": "code",
   "execution_count": null,
   "metadata": {
    "collapsed": true
   },
   "outputs": [],
   "source": [
    "mocapFrame = dataFrame[dataFrame['Space'] == 'Mocap']\n",
    "kinectFrame = dataFrame[dataFrame['Space'] == 'Kinect']"
   ]
  },
  {
   "cell_type": "code",
   "execution_count": null,
   "metadata": {
    "collapsed": false
   },
   "outputs": [],
   "source": [
    "props = {'connectionstyle':'bar,fraction=0.15', 'arrowstyle':'-', 'lw':2}\n",
    "\n",
    "dF = kinectFrame[kinectFrame['Param'] == 'nrmse']\n",
    "fig = plt.figure()\n",
    "ax = sns.boxplot(x='Type', y='Value', hue='Feature', data=dF, whis=1.5, fliersize=5, notch=False)\n",
    "ax.set_xlabel('')\n",
    "ax.set_ylabel('NRMSE')\n",
    "ax.set_ylim([0.0,0.2])\n",
    "ax.legend_.remove()\n",
    "\n",
    "ax.text(1.0, 0.185, '*', horizontalalignment='center', verticalalignment='center')\n",
    "ax.text(0.875, 0.168, '*', horizontalalignment='center', verticalalignment='center')\n",
    "ax.text(1.125, 0.12, 'n.s', horizontalalignment='center', verticalalignment='center')\n",
    "ax.annotate(\"\", xy=(0.75,0.17), xycoords='data', xytext=(1.25,0.17), textcoords='data', arrowprops=props)\n",
    "ax.annotate(\"\", xy=(0.75,0.16), xycoords='data', xytext=(1.0,0.16), textcoords='data', arrowprops=props)\n",
    "ax.annotate(\"\", xy=(1.0,0.105), xycoords='data', xytext=(1.25,0.105), textcoords='data', arrowprops=props)\n",
    "\n",
    "plt.tight_layout()\n",
    "plt.savefig('Result/kinectNRMSE.pdf', format='pdf')"
   ]
  },
  {
   "cell_type": "code",
   "execution_count": null,
   "metadata": {
    "collapsed": false
   },
   "outputs": [],
   "source": [
    "props = {'connectionstyle':'bar,fraction=0.15', 'arrowstyle':'-', 'lw':2}\n",
    "\n",
    "dF = kinectFrame[kinectFrame['Param'] == 'corr']\n",
    "fig = plt.figure()\n",
    "ax = sns.boxplot(x='Type', y='Value', hue='Feature', data=dF, whis=1.5, fliersize=5, notch=False)\n",
    "ax.set_xlabel('')\n",
    "ax.set_ylabel('Pearson Correlation')\n",
    "ax.set_ylim([0.85,1.03])\n",
    "ax.legend_.set_title('')\n",
    "\n",
    "ax.text(1.0, 1.005, '*', horizontalalignment='center', verticalalignment='center')\n",
    "ax.text(0.875, 0.988, '*', horizontalalignment='center', verticalalignment='center')\n",
    "ax.text(1.125, 0.992, 'n.s', horizontalalignment='center', verticalalignment='center')\n",
    "ax.annotate(\"\", xy=(0.75,0.99), xycoords='data', xytext=(1.25,0.99), textcoords='data', arrowprops=props)\n",
    "ax.annotate(\"\", xy=(0.75,0.98), xycoords='data', xytext=(1.0,0.98), textcoords='data', arrowprops=props)\n",
    "ax.annotate(\"\", xy=(1.0,0.98), xycoords='data', xytext=(1.25,0.98), textcoords='data', arrowprops=props)\n",
    "\n",
    "plt.tight_layout()\n",
    "plt.savefig('Result/kinectCorr.pdf', format='pdf')"
   ]
  },
  {
   "cell_type": "code",
   "execution_count": null,
   "metadata": {
    "collapsed": false
   },
   "outputs": [],
   "source": [
    "props = {'connectionstyle':'bar,fraction=0.15', 'arrowstyle':'-', 'lw':2}\n",
    "\n",
    "dF = mocapFrame[mocapFrame['Param'] == 'nrmse']\n",
    "fig = plt.figure()\n",
    "ax = sns.boxplot(x='Type', y='Value', hue='Feature', data=dF, whis=1.5, fliersize=5, notch=False)\n",
    "ax.set_xlabel('')\n",
    "ax.set_ylabel('NRMSE')\n",
    "ax.set_ylim([0.0,0.48])\n",
    "ax.legend_.set_title('')\n",
    "\n",
    "ax.text(1.0, 0.45, '*', horizontalalignment='center', verticalalignment='center')\n",
    "ax.text(0.875, 0.42, '*', horizontalalignment='center', verticalalignment='center')\n",
    "ax.text(1.125, 0.24, '*', horizontalalignment='center', verticalalignment='center')\n",
    "ax.annotate(\"\", xy=(0.75,0.42), xycoords='data', xytext=(1.25,0.42), textcoords='data', arrowprops=props)\n",
    "ax.annotate(\"\", xy=(0.75,0.40), xycoords='data', xytext=(1.0,0.40), textcoords='data', arrowprops=props)\n",
    "ax.annotate(\"\", xy=(1.0,0.22), xycoords='data', xytext=(1.25,0.22), textcoords='data', arrowprops=props)\n",
    "\n",
    "plt.tight_layout()\n",
    "plt.savefig('Result/mocapNRMSE.pdf', format='pdf')"
   ]
  },
  {
   "cell_type": "code",
   "execution_count": null,
   "metadata": {
    "collapsed": false
   },
   "outputs": [],
   "source": [
    "props = {'connectionstyle':'bar,fraction=0.15', 'arrowstyle':'-', 'lw':2}\n",
    "\n",
    "dF = mocapFrame[mocapFrame['Param'] == 'corr']\n",
    "fig = plt.figure()\n",
    "ax = sns.boxplot(x='Type', y='Value', hue='Feature', data=dF, whis=1.5, fliersize=5, notch=False)\n",
    "ax.set_xlabel('')\n",
    "ax.set_ylabel('Pearson Correlation')\n",
    "ax.set_ylim([0.45,1.08])\n",
    "ax.legend_.remove()\n",
    "\n",
    "ax.text(1.0, 1.04, '*', horizontalalignment='center', verticalalignment='center')\n",
    "ax.text(0.875, 0.85, '*', horizontalalignment='center', verticalalignment='center')\n",
    "ax.text(1.125, 1.0, '*', horizontalalignment='center', verticalalignment='center')\n",
    "ax.annotate(\"\", xy=(0.75,1.00), xycoords='data', xytext=(1.25,1.00), textcoords='data', arrowprops=props)\n",
    "ax.annotate(\"\", xy=(0.75,0.83), xycoords='data', xytext=(1.0,0.83), textcoords='data', arrowprops=props)\n",
    "ax.annotate(\"\", xy=(1.0,0.98), xycoords='data', xytext=(1.25,0.98), textcoords='data', arrowprops=props)\n",
    "\n",
    "plt.tight_layout()\n",
    "plt.savefig('Result/mocapCorr.pdf', format='pdf')"
   ]
  },
  {
   "cell_type": "code",
   "execution_count": null,
   "metadata": {
    "collapsed": true
   },
   "outputs": [],
   "source": []
  }
 ],
 "metadata": {
  "kernelspec": {
   "display_name": "Python 2",
   "language": "python",
   "name": "python2"
  },
  "language_info": {
   "codemirror_mode": {
    "name": "ipython",
    "version": 2
   },
   "file_extension": ".py",
   "mimetype": "text/x-python",
   "name": "python",
   "nbconvert_exporter": "python",
   "pygments_lexer": "ipython2",
   "version": "2.7.6"
  },
  "widgets": {
   "state": {},
   "version": "1.1.2"
  }
 },
 "nbformat": 4,
 "nbformat_minor": 0
}
