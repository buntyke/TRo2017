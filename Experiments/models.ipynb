{
 "cells": [
  {
   "cell_type": "markdown",
   "metadata": {
    "deletable": true,
    "editable": true
   },
   "source": [
    "# Model Training: TRo Journal\n",
    "---\n",
    "\n",
    "In this notebook the MRD models over the entire dataset is trained. These models are used in several experiments and so are run prior to actually running each exp. This notebook execution will be highly time consuming. Each model takes approximately 3 hrs and a total duration of around 3 days. \n",
    "\n",
    "These models are not used in Exp1 and Exp4. It is possible to run Exp1, Exp4 prior to running this notebook."
   ]
  },
  {
   "cell_type": "code",
   "execution_count": null,
   "metadata": {
    "collapsed": false,
    "deletable": true,
    "editable": true
   },
   "outputs": [],
   "source": [
    "# import the modules\n",
    "import os\n",
    "import GPy\n",
    "import csv\n",
    "import numpy as np\n",
    "import cPickle as pickle\n",
    "from matplotlib import pyplot as plt\n",
    "\n",
    "%matplotlib notebook"
   ]
  },
  {
   "cell_type": "markdown",
   "metadata": {
    "deletable": true,
    "editable": true
   },
   "source": [
    "## Data Loading\n",
    "---"
   ]
  },
  {
   "cell_type": "code",
   "execution_count": null,
   "metadata": {
    "collapsed": false,
    "deletable": true,
    "editable": true
   },
   "outputs": [],
   "source": [
    "nShr = 4\n",
    "nPos = 6\n",
    "names = []\n",
    "dims = [1,7500,8]\n",
    "keys = ['Time','Cloud','TopCoord']\n",
    "\n",
    "for nS in range(nShr):\n",
    "    for nP in range(nPos):\n",
    "        names.append('K1S%dP%dT1' % (nS+1,nP+1))\n",
    "        \n",
    "# create models folder\n",
    "dName = 'Models'\n",
    "if not os.path.exists(dName):\n",
    "    os.makedirs(dName)\n",
    "\n",
    "# load dataset\n",
    "Data = pickle.load(open('Data/Data.p','rb'))    "
   ]
  },
  {
   "cell_type": "code",
   "execution_count": null,
   "metadata": {
    "collapsed": true,
    "deletable": true,
    "editable": true
   },
   "outputs": [],
   "source": [
    "# set the overall parameters for mrd\n",
    "qDim = 15\n",
    "\n",
    "# dimensions for kinect and mocap\n",
    "qDims = [10,5]\n",
    "qDVals = [np.arange(0,qDims[0]), np.arange(qDims[0],qDims[0]+qDims[1])]\n",
    "\n",
    "# set the number of inducing inputs\n",
    "nInducing = 100"
   ]
  },
  {
   "cell_type": "code",
   "execution_count": null,
   "metadata": {
    "collapsed": false,
    "deletable": true,
    "editable": true
   },
   "outputs": [],
   "source": [
    "# main loop\n",
    "samplingFreq = 2\n",
    "nTrials = len(names)\n",
    "\n",
    "# optimization variables\n",
    "SNR1 = 100\n",
    "SNR0 = 1000\n",
    "trainIters = 1500\n",
    "initMod0Iters = 500\n",
    "initMod1Iters = 500\n",
    "initVardistIters = 1500"
   ]
  },
  {
   "cell_type": "code",
   "execution_count": null,
   "metadata": {
    "collapsed": false,
    "deletable": true,
    "editable": true,
    "scrolled": true
   },
   "outputs": [],
   "source": [
    "# cross validation over the dataset\n",
    "kinectExt = 'C'\n",
    "kinectDim = 7500\n",
    "kinectKey = 'Cloud'\n",
    "\n",
    "mocapDim = 8\n",
    "mocapExt = 'T'\n",
    "mocapKey = 'TopCoord'\n",
    "    \n",
    "keys = [kinectKey,mocapKey]\n",
    "\n",
    "# model name\n",
    "expName = '%s%s' % (kinectExt,mocapExt)\n",
    "\n",
    "# YNames variable\n",
    "dims = [kinectDim, mocapDim]\n",
    "YNames = [kinectKey, mocapKey]\n",
    "\n",
    "nShr = 4\n",
    "nPos = 6\n",
    "for sInd in range(nShr):    \n",
    "    for pInd in range(nPos):\n",
    "        valData = {}\n",
    "        testData = {}\n",
    "        trainData = {}\n",
    "\n",
    "        testInd = sInd*nPos+pInd\n",
    "        valInd = sInd*nPos+(pInd+1)%nPos\n",
    "        trainInd = [sInd*nPos+ind for ind in range(nPos)]\n",
    "        del trainInd[pInd]\n",
    "        \n",
    "        print 'Cycle:%d' % (pInd+1)\n",
    "        print valInd, testInd, trainInd\n",
    "\n",
    "        for key,dim in zip(keys,dims):\n",
    "            trD = np.empty((0,dim))\n",
    "            for ind in trainInd:\n",
    "                trD = np.concatenate((trD,Data[names[ind]][key][::samplingFreq,:]),axis=0)\n",
    "            trainData[key] = trD\n",
    "        \n",
    "            valData[key] = Data[names[valInd]][key]\n",
    "            testData[key] = Data[names[testInd]][key]\n",
    "        \n",
    "        # choosing the training dataset\n",
    "        nSamples = trainData[kinectKey].shape[0]\n",
    "        trainList = [trainData[kinectKey], trainData[mocapKey]]\n",
    "    \n",
    "        # initializing the latent space \n",
    "        scales = []\n",
    "        inputX = np.zeros((nSamples,qDim))\n",
    "\n",
    "        for qD,qDV,Y in zip(qDims, qDVals, trainList):\n",
    "            x,frcs = GPy.util.initialization.initialize_latent('PCA',qD, Y)\n",
    "            scales.extend(frcs)\n",
    "            inputX[:,qDV] = x\n",
    "    \n",
    "        scales = np.asarray(scales)\n",
    "        print scales\n",
    "    \n",
    "        # setting up the kernel\n",
    "        mrdKernels = []\n",
    "\n",
    "        for Y in trainList:\n",
    "            mrdKernels.append(GPy.kern.RBF(qDim, variance=1., lengthscale=1./scales, ARD = True))\n",
    "        \n",
    "        # initializing MRD model\n",
    "        mrdModel = GPy.models.MRD(trainList, input_dim=qDim, num_inducing=nInducing, kernel=mrdKernels, \n",
    "                                  X=inputX, name='%s%d%d' % (expName,sInd,pInd+1))\n",
    "        print 'Setup Model!'\n",
    "    \n",
    "        # Phase 1: Optimizaition by fixing variance parameters\n",
    "        var0 = mrdModel.Y0.Y.var()\n",
    "        var1 = mrdModel.Y1.Y.var()\n",
    "\n",
    "        mrdModel.Y0.rbf.variance.fix(var0)\n",
    "        mrdModel.Y1.rbf.variance.fix(var1)\n",
    "\n",
    "        mrdModel.Y0.Gaussian_noise.variance.fix(var0/SNR0)\n",
    "        mrdModel.Y1.Gaussian_noise.variance.fix(var1/SNR1)\n",
    "\n",
    "        mrdModel.optimize(messages=True, max_iters=initVardistIters)\n",
    "    \n",
    "        # Phase 2: Optimize each model individually\n",
    "\n",
    "        # constrain space 0\n",
    "        mrdModel.Y1.constrain_fixed()\n",
    "        mrdModel.optimize(messages=True, max_iters=initMod0Iters)\n",
    "\n",
    "        # constrain space 1\n",
    "        mrdModel.Y0.constrain_fixed()\n",
    "        mrdModel.Y1.unconstrain_fixed()\n",
    "        mrdModel.Y1.rbf.variance.fix(var1)\n",
    "        mrdModel.Y1.Gaussian_noise.variance.fix(var1/SNR1)\n",
    "        mrdModel.optimize(messages=True, max_iters=initMod1Iters)\n",
    "    \n",
    "        # Phase 3: Optimize the model without any constraints\n",
    "\n",
    "        # training without constraints\n",
    "        mrdModel.Y0.unconstrain_fixed()\n",
    "        mrdModel.Y1.unconstrain_fixed()\n",
    "        mrdModel.optimize(messages=True, max_iters=trainIters)\n",
    "    \n",
    "        print 'Training Done!'\n",
    "    \n",
    "        # save the model\n",
    "        mrdModel = pickle.dump(mrdModel, open('Models/Model%d%d.p' % (sInd+1,pInd+1),'wb'))\n",
    "    \n",
    "        print 'Saving Done!'"
   ]
  },
  {
   "cell_type": "code",
   "execution_count": null,
   "metadata": {
    "collapsed": true
   },
   "outputs": [],
   "source": []
  }
 ],
 "metadata": {
  "kernelspec": {
   "display_name": "Python 2",
   "language": "python",
   "name": "python2"
  },
  "language_info": {
   "codemirror_mode": {
    "name": "ipython",
    "version": 2
   },
   "file_extension": ".py",
   "mimetype": "text/x-python",
   "name": "python",
   "nbconvert_exporter": "python",
   "pygments_lexer": "ipython2",
   "version": "2.7.12"
  },
  "widgets": {
   "state": {},
   "version": "1.1.2"
  }
 },
 "nbformat": 4,
 "nbformat_minor": 0
}
